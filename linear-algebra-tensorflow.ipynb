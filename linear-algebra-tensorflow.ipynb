{
 "cells": [
  {
   "cell_type": "code",
   "execution_count": 1,
   "metadata": {
    "collapsed": true
   },
   "outputs": [],
   "source": [
    "import tensorflow as tf\n",
    "import numpy as np\n",
    "\n",
    "X = tf.placeholder(tf.float32, name=\"X\")\n",
    "x_data = np.array([[1,1,4,5,6,8,9]], dtype=np.float)\n",
    "x_data = x_data.reshape(-1, 1)\n",
    "\n",
    "t = tf.placeholder(tf.float32, name=\"t\")\n",
    "t_data = np.array([[107],[83],[70]], dtype=np.float)\n",
    "\n",
    "W = tf.Variable([[1,5,3,7,4,5,66], [2,4,23,1,2,1,1], [4,4,1,1,1,1,2]], dtype=tf.float32)\n",
    "y = tf.matmul(W, X)\n",
    "\n",
    "cost = tf.reduce_sum(1/2 * tf.square(y - t))\n",
    "\n",
    "optimizer = tf.train.GradientDescentOptimizer(learning_rate=0.001)\n",
    "train_op = optimizer.minimize(cost)"
   ]
  },
  {
   "cell_type": "code",
   "execution_count": 2,
   "metadata": {},
   "outputs": [
    {
     "name": "stdout",
     "output_type": "stream",
     "text": [
      "0 183829.0\n",
      "1 110697.41\n",
      "2 66659.33\n",
      "3 40140.64\n",
      "4 24171.732\n",
      "5 14555.636\n",
      "6 8765.057\n",
      "7 5278.1055\n",
      "8 3178.349\n",
      "9 1913.9242\n",
      "10 1152.5206\n",
      "11 694.02075\n",
      "12 417.92206\n",
      "13 251.66273\n",
      "14 151.54463\n",
      "15 91.25703\n",
      "16 54.952515\n",
      "17 33.091007\n",
      "18 19.926735\n",
      "19 11.999382\n",
      "20 7.225796\n",
      "21 4.3512244\n",
      "22 2.620146\n",
      "23 1.5778699\n",
      "24 0.9501405\n",
      "25 0.5721558\n",
      "26 0.34454829\n",
      "27 0.20746915\n",
      "28 0.12493038\n",
      "29 0.0752271\n",
      "30 0.045300674\n",
      "31 0.027270328\n",
      "32 0.016424706\n",
      "33 0.009891333\n",
      "34 0.005954223\n",
      "35 0.0035851896\n",
      "36 0.0021612002\n",
      "37 0.0012994208\n",
      "38 0.0007821857\n",
      "39 0.0004711433\n",
      "40 0.0002833356\n",
      "41 0.0001712041\n",
      "42 0.000103672646\n",
      "43 6.21792e-05\n",
      "44 3.732185e-05\n",
      "45 2.2715074e-05\n",
      "46 1.3724435e-05\n",
      "47 8.174451e-06\n",
      "48 4.977599e-06\n",
      "49 3.002613e-06\n",
      "[[ -1.6964203    2.3035798   -7.7856812   -6.4821014  -12.17852\n",
      "  -16.571362    41.73222   ]\n",
      " [  1.7812504    3.7812517   22.125       -0.09374629   0.68750435\n",
      "   -0.7499943   -0.9687432 ]\n",
      " [  4.093748     4.093748     1.3749992    1.4687483    1.5624981\n",
      "    1.7499975    2.8437479 ]]\n",
      "[[107.00189]\n",
      " [ 83.00015]\n",
      " [ 69.99994]]\n"
     ]
    }
   ],
   "source": [
    "with tf.Session() as sess:\n",
    "    sess.run(tf.global_variables_initializer())\n",
    "\n",
    "    for step in range(50):\n",
    "        cost_val = sess.run(cost, feed_dict={X: x_data, t: t_data})\n",
    "        sess.run(train_op, feed_dict={X: x_data, t: t_data})\n",
    "        print(step, cost_val)\n",
    "\n",
    "    print(sess.run(W))\n",
    "    print(sess.run(y, feed_dict={X: x_data}))"
   ]
  }
 ],
 "metadata": {
  "kernelspec": {
   "display_name": "Python 3",
   "language": "python",
   "name": "python3"
  },
  "language_info": {
   "codemirror_mode": {
    "name": "ipython",
    "version": 3
   },
   "file_extension": ".py",
   "mimetype": "text/x-python",
   "name": "python",
   "nbconvert_exporter": "python",
   "pygments_lexer": "ipython3",
   "version": "3.6.3"
  }
 },
 "nbformat": 4,
 "nbformat_minor": 2
}
