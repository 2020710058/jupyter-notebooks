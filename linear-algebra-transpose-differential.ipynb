{
 "cells": [
  {
   "cell_type": "markdown",
   "metadata": {},
   "source": [
    "# Linear Algebra: Matrix Transpose & Differential Calculus"
   ]
  },
  {
   "cell_type": "code",
   "execution_count": 1,
   "metadata": {
    "collapsed": true
   },
   "outputs": [],
   "source": [
    "import numpy as np\n",
    "np.set_printoptions(suppress=True)"
   ]
  },
  {
   "cell_type": "code",
   "execution_count": 2,
   "metadata": {},
   "outputs": [
    {
     "data": {
      "text/plain": [
       "array([1, 1, 4, 5, 6, 8, 9])"
      ]
     },
     "execution_count": 2,
     "metadata": {},
     "output_type": "execute_result"
    }
   ],
   "source": [
    "x = np.array([1,1,4,5,6,8,9])\n",
    "x"
   ]
  },
  {
   "cell_type": "code",
   "execution_count": 3,
   "metadata": {},
   "outputs": [
    {
     "data": {
      "text/plain": [
       "array([[1],\n",
       "       [1],\n",
       "       [4],\n",
       "       [5],\n",
       "       [6],\n",
       "       [8],\n",
       "       [9]])"
      ]
     },
     "execution_count": 3,
     "metadata": {},
     "output_type": "execute_result"
    }
   ],
   "source": [
    "# 『신경망 첫걸음, 2016』 에서는 이 방식으로 변환한다.\n",
    "np.array(x, ndmin=2).T"
   ]
  },
  {
   "cell_type": "code",
   "execution_count": 4,
   "metadata": {},
   "outputs": [
    {
     "data": {
      "text/plain": [
       "array([1, 1, 4, 5, 6, 8, 9])"
      ]
     },
     "execution_count": 4,
     "metadata": {},
     "output_type": "execute_result"
    }
   ],
   "source": [
    "x.T"
   ]
  },
  {
   "cell_type": "code",
   "execution_count": 5,
   "metadata": {},
   "outputs": [
    {
     "data": {
      "text/plain": [
       "7"
      ]
     },
     "execution_count": 5,
     "metadata": {},
     "output_type": "execute_result"
    }
   ],
   "source": [
    "x.shape[0]"
   ]
  },
  {
   "cell_type": "code",
   "execution_count": 6,
   "metadata": {},
   "outputs": [
    {
     "data": {
      "text/plain": [
       "array([[1],\n",
       "       [1],\n",
       "       [4],\n",
       "       [5],\n",
       "       [6],\n",
       "       [8],\n",
       "       [9]])"
      ]
     },
     "execution_count": 6,
     "metadata": {},
     "output_type": "execute_result"
    }
   ],
   "source": [
    "# 그러나 reshape로 좀 더 우아하게 변환할 수 있다.\n",
    "x = x.reshape(-1, 1)\n",
    "x"
   ]
  },
  {
   "cell_type": "code",
   "execution_count": 7,
   "metadata": {},
   "outputs": [
    {
     "data": {
      "text/plain": [
       "array([[ 1.,  5.,  3.,  7.,  4.,  5., 66.],\n",
       "       [ 2.,  4., 23.,  1.,  2.,  1.,  1.],\n",
       "       [ 4.,  4.,  1.,  1.,  1.,  1.,  2.]])"
      ]
     },
     "execution_count": 7,
     "metadata": {},
     "output_type": "execute_result"
    }
   ],
   "source": [
    "# 엉뚱한 답을 찾으라고 할 순 없으므로 미리 정답 행렬로 답을 만들어 둔다.\n",
    "# w = np.array([[2,5,1,7,2,5,1], [1,4,5,1,2,4,1], [2,4,2,2,2,2,2]])\n",
    "\n",
    "# 우리가 학습하고자 하는 가중치 행렬\n",
    "def init_w():\n",
    "    w = np.array([[1,5,3,7,4,5,66], [2,4,23,1,2,1,1], [4,4,1,1,1,1,2]],  dtype=np.float)\n",
    "    return w\n",
    "\n",
    "w = init_w()\n",
    "w"
   ]
  },
  {
   "cell_type": "code",
   "execution_count": 8,
   "metadata": {},
   "outputs": [
    {
     "ename": "ValueError",
     "evalue": "shapes (7,1) and (3,7) not aligned: 1 (dim 1) != 3 (dim 0)",
     "output_type": "error",
     "traceback": [
      "\u001b[0;31m---------------------------------------------------------------------------\u001b[0m",
      "\u001b[0;31mValueError\u001b[0m                                Traceback (most recent call last)",
      "\u001b[0;32m<ipython-input-8-c8fea2b5623d>\u001b[0m in \u001b[0;36m<module>\u001b[0;34m()\u001b[0m\n\u001b[0;32m----> 1\u001b[0;31m \u001b[0mnp\u001b[0m\u001b[0;34m.\u001b[0m\u001b[0mdot\u001b[0m\u001b[0;34m(\u001b[0m\u001b[0mx\u001b[0m\u001b[0;34m,\u001b[0m \u001b[0mw\u001b[0m\u001b[0;34m)\u001b[0m\u001b[0;34m\u001b[0m\u001b[0m\n\u001b[0m",
      "\u001b[0;31mValueError\u001b[0m: shapes (7,1) and (3,7) not aligned: 1 (dim 1) != 3 (dim 0)"
     ]
    }
   ],
   "source": [
    "np.dot(x, w)"
   ]
  },
  {
   "cell_type": "markdown",
   "metadata": {},
   "source": [
    "(3, 7)과 (7, 1) 처럼 첫 번째 matrix의 열과 두 번째 matrix의 행이 일치해야 점곱(dot product)이 가능하다."
   ]
  },
  {
   "cell_type": "code",
   "execution_count": 9,
   "metadata": {},
   "outputs": [
    {
     "data": {
      "text/plain": [
       "array([[711.],\n",
       "       [132.],\n",
       "       [ 49.]])"
      ]
     },
     "execution_count": 9,
     "metadata": {},
     "output_type": "execute_result"
    }
   ],
   "source": [
    "y = np.dot(w, x)\n",
    "y"
   ]
  },
  {
   "cell_type": "code",
   "execution_count": 10,
   "metadata": {},
   "outputs": [
    {
     "data": {
      "text/plain": [
       "array([[107],\n",
       "       [ 83],\n",
       "       [ 70]])"
      ]
     },
     "execution_count": 10,
     "metadata": {},
     "output_type": "execute_result"
    }
   ],
   "source": [
    "# 정답\n",
    "t = np.array([[107],[83],[70]])\n",
    "t"
   ]
  },
  {
   "cell_type": "code",
   "execution_count": 11,
   "metadata": {},
   "outputs": [
    {
     "data": {
      "text/plain": [
       "array([[604.],\n",
       "       [ 49.],\n",
       "       [-21.]])"
      ]
     },
     "execution_count": 11,
     "metadata": {},
     "output_type": "execute_result"
    }
   ],
   "source": [
    "y - t # E"
   ]
  },
  {
   "cell_type": "code",
   "execution_count": 12,
   "metadata": {
    "collapsed": true
   },
   "outputs": [],
   "source": [
    "# 미분\n",
    "\n",
    "# d(E) / d(w_kj) = d() / d(w_kj) * sum((t_n - y_n) ** 2)\n",
    "\n",
    "# 그러나 결과 y_n은 연결되는 노드로부터만 영향을 받는다.\n",
    "# 다시 말해, 노드 k의 결과 값인 y_k는 그와 연결되는 가중치 w_kj에 의해서만 영향을 받는다.\n",
    "\n",
    "# 따라서 w_kj의 연결 노드인 y_k 외에 모든 y_n을 제거할 수 있다. 이제 sum을 제거할 수 있다.\n",
    "# d(E) / d(w_kj) = d((t_k - y_k) ** 2) / d(w_kj)\n",
    "\n",
    "# 미분의 연쇄 법칙\n",
    "# d(E) / d(w_kj) = d(E) / d(y_k) * d(y_k) / d(w_kj)\n",
    "\n",
    "# d(E) / d(y_k) = -2 * (t_k - y_k)\n",
    "# d(y_k) / d(w_kj) = d(sum(w_kn * x_n)) / d(w_kj)\n",
    "\n",
    "# 마찬가지로 y_k는 이와 연결되는 w_kj에 의해서만 영향을 받는다.\n",
    "# 따라서 w_kj의 연결 노드인 w_kj * x_j 에만 영향을 주므로 sum을 제거할 수 있다.\n",
    "# d(w_kj * x_j) / d(w_kj) = x_j\n",
    "\n",
    "# 미분 계산을 쉽게 하기 위해 1/2 * SE를 취한다.\n",
    "# d(1/2 * (t_k - y_k) ** 2) / d(y_k) = y_k - t_k\n",
    "\n",
    "# 모두 정리하면 아래와 같은 깔끔한 수식이 된다.\n",
    "# (y_k - t_k) * x_j"
   ]
  },
  {
   "cell_type": "code",
   "execution_count": 13,
   "metadata": {
    "collapsed": true
   },
   "outputs": [],
   "source": [
    "l = 0.001 # learning rate, 0.01로 했을 경우 overshooting이 발생했다.\n",
    "\n",
    "for k in range(3):\n",
    "    for j in range(7):\n",
    "        delta_w = (y[k] - t[k]) * x[j] # 미분\n",
    "        delta_w = -1 * l * delta_w     # 미분의 역방향 * learning rate\n",
    "        # print (k, j, t[k], y[k], x[j], delta_w)\n",
    "        w[k][j] += delta_w"
   ]
  },
  {
   "cell_type": "code",
   "execution_count": 14,
   "metadata": {
    "scrolled": true
   },
   "outputs": [
    {
     "data": {
      "text/plain": [
       "array([[ 0.396,  4.396,  0.584,  3.98 ,  0.376,  0.168, 60.564],\n",
       "       [ 1.951,  3.951, 22.804,  0.755,  1.706,  0.608,  0.559],\n",
       "       [ 4.021,  4.021,  1.084,  1.105,  1.126,  1.168,  2.189]])"
      ]
     },
     "execution_count": 14,
     "metadata": {},
     "output_type": "execute_result"
    }
   ],
   "source": [
    "# 역전파 1회 완료 후 계산된 가중치 행렬\n",
    "w"
   ]
  },
  {
   "cell_type": "code",
   "execution_count": 15,
   "metadata": {},
   "outputs": [
    {
     "data": {
      "text/plain": [
       "array([[ 1.,  5.,  3.,  7.,  4.,  5., 66.],\n",
       "       [ 2.,  4., 23.,  1.,  2.,  1.,  1.],\n",
       "       [ 4.,  4.,  1.,  1.,  1.,  1.,  2.]])"
      ]
     },
     "execution_count": 15,
     "metadata": {},
     "output_type": "execute_result"
    }
   ],
   "source": [
    "# 다시 가중치 행렬 초기화\n",
    "w = init_w()\n",
    "w"
   ]
  },
  {
   "cell_type": "code",
   "execution_count": 16,
   "metadata": {
    "collapsed": true
   },
   "outputs": [],
   "source": [
    "# 이번에는 전체 계산을 한 번에 진행한다.\n",
    "# [[d(E_1) / d(y_1)],[d(E_2) / d(y_2)],[d(E_3) / d(y_3)]] \n",
    "# \\dot [x_1, x_2, x_3 ... x_7]\n",
    "\n",
    "# 미분 계산 편의상 1/2을 취한다.\n",
    "# d(1/2 * E_1) / d(y_1) = 1/2 * (t_1 - y_1) ** 2\n",
    "# = y_1 - t_1\n",
    "\n",
    "# x_n 과 dot 계산 결과는 [w_11, w_12, w_13 ... w_17], [w_21, w_22 ... w_27], [w_31 ...] 와 동일하다.\n",
    "# 에러를 x_n의 비율만큼 나눠준다.\n",
    "\n",
    "# 아래와 같이 미분과 전치 행렬로 한 번에 동일한 계산 결과를 줄 수 있다.\n",
    "w += - l * np.dot((y - t), x.transpose())"
   ]
  },
  {
   "cell_type": "code",
   "execution_count": 17,
   "metadata": {},
   "outputs": [
    {
     "data": {
      "text/plain": [
       "array([[ 0.396,  4.396,  0.584,  3.98 ,  0.376,  0.168, 60.564],\n",
       "       [ 1.951,  3.951, 22.804,  0.755,  1.706,  0.608,  0.559],\n",
       "       [ 4.021,  4.021,  1.084,  1.105,  1.126,  1.168,  2.189]])"
      ]
     },
     "execution_count": 17,
     "metadata": {},
     "output_type": "execute_result"
    }
   ],
   "source": [
    "w"
   ]
  },
  {
   "cell_type": "code",
   "execution_count": 18,
   "metadata": {},
   "outputs": [
    {
     "data": {
      "text/plain": [
       "(array([[604.],\n",
       "        [ 49.],\n",
       "        [-21.]]), array([[1, 1, 4, 5, 6, 8, 9]]))"
      ]
     },
     "execution_count": 18,
     "metadata": {},
     "output_type": "execute_result"
    }
   ],
   "source": [
    "y-t, x.transpose()"
   ]
  },
  {
   "cell_type": "code",
   "execution_count": 19,
   "metadata": {},
   "outputs": [
    {
     "data": {
      "text/plain": [
       "array([[ 604.,  604., 2416., 3020., 3624., 4832., 5436.],\n",
       "       [  49.,   49.,  196.,  245.,  294.,  392.,  441.],\n",
       "       [ -21.,  -21.,  -84., -105., -126., -168., -189.]])"
      ]
     },
     "execution_count": 19,
     "metadata": {},
     "output_type": "execute_result"
    }
   ],
   "source": [
    "np.dot((y - t), x.transpose())"
   ]
  },
  {
   "cell_type": "code",
   "execution_count": 20,
   "metadata": {},
   "outputs": [
    {
     "data": {
      "text/plain": [
       "array([[107.00133721],\n",
       "       [ 83.00010848],\n",
       "       [ 69.99995351]])"
      ]
     },
     "execution_count": 20,
     "metadata": {},
     "output_type": "execute_result"
    }
   ],
   "source": [
    "# 추가 학습\n",
    "for _ in range(50):\n",
    "    w += - l * np.dot((y - t), x.transpose())\n",
    "    y = np.dot(w, x)\n",
    "y"
   ]
  },
  {
   "cell_type": "code",
   "execution_count": 21,
   "metadata": {},
   "outputs": [
    {
     "data": {
      "text/plain": [
       "array([[ -1.6964226 ,   2.3035774 ,  -7.78569041,  -6.48211301,\n",
       "        -12.17853561, -16.57138081,  41.73219658],\n",
       "       [  1.78125048,   3.78125048,  22.12500194,  -0.09374758,\n",
       "          0.68750291,  -0.74999613,  -0.96874564],\n",
       "       [  4.09374979,   4.09374979,   1.37499917,   1.46874896,\n",
       "          1.56249875,   1.74999834,   2.84374813]])"
      ]
     },
     "execution_count": 21,
     "metadata": {},
     "output_type": "execute_result"
    }
   ],
   "source": [
    "w"
   ]
  },
  {
   "cell_type": "markdown",
   "metadata": {
    "collapsed": true
   },
   "source": [
    "아래는 미분의 계산 일치 여부를 직접 검증한다."
   ]
  },
  {
   "cell_type": "code",
   "execution_count": 22,
   "metadata": {},
   "outputs": [
    {
     "data": {
      "text/latex": [
       "$$\\left(t - y\\right)^{2}$$"
      ],
      "text/plain": [
       "       2\n",
       "(t - y) "
      ]
     },
     "execution_count": 22,
     "metadata": {},
     "output_type": "execute_result"
    }
   ],
   "source": [
    "import sympy\n",
    "sympy.init_printing(use_latex='mathjax')\n",
    "t, y = sympy.symbols('t y')\n",
    "e = (t - y)**2\n",
    "e"
   ]
  },
  {
   "cell_type": "code",
   "execution_count": 23,
   "metadata": {},
   "outputs": [
    {
     "data": {
      "text/latex": [
       "$$\\frac{\\partial}{\\partial y} \\left(t - y\\right)^{2}$$"
      ],
      "text/plain": [
       "∂ ⎛       2⎞\n",
       "──⎝(t - y) ⎠\n",
       "∂y          "
      ]
     },
     "execution_count": 23,
     "metadata": {},
     "output_type": "execute_result"
    }
   ],
   "source": [
    "sympy.Derivative(e, y)"
   ]
  },
  {
   "cell_type": "code",
   "execution_count": 24,
   "metadata": {},
   "outputs": [
    {
     "data": {
      "text/latex": [
       "$$- 2 t + 2 y$$"
      ],
      "text/plain": [
       "-2⋅t + 2⋅y"
      ]
     },
     "execution_count": 24,
     "metadata": {},
     "output_type": "execute_result"
    }
   ],
   "source": [
    "sympy.Derivative(e, y).doit()"
   ]
  },
  {
   "cell_type": "code",
   "execution_count": 25,
   "metadata": {},
   "outputs": [
    {
     "data": {
      "text/latex": [
       "$$\\frac{\\partial}{\\partial y}\\left(0.5 \\left(t - y\\right)^{2}\\right)$$"
      ],
      "text/plain": [
       "∂ ⎛           2⎞\n",
       "──⎝0.5⋅(t - y) ⎠\n",
       "∂y              "
      ]
     },
     "execution_count": 25,
     "metadata": {},
     "output_type": "execute_result"
    }
   ],
   "source": [
    "e12 = 1/2 * (t - y) ** 2\n",
    "sympy.Derivative(e12, y)"
   ]
  },
  {
   "cell_type": "code",
   "execution_count": 26,
   "metadata": {},
   "outputs": [
    {
     "data": {
      "text/latex": [
       "$$- 1.0 t + 1.0 y$$"
      ],
      "text/plain": [
       "-1.0⋅t + 1.0⋅y"
      ]
     },
     "execution_count": 26,
     "metadata": {},
     "output_type": "execute_result"
    }
   ],
   "source": [
    "sympy.Derivative(e12, y).doit()"
   ]
  }
 ],
 "metadata": {
  "kernelspec": {
   "display_name": "Python 3",
   "language": "python",
   "name": "python3"
  },
  "language_info": {
   "codemirror_mode": {
    "name": "ipython",
    "version": 3
   },
   "file_extension": ".py",
   "mimetype": "text/x-python",
   "name": "python",
   "nbconvert_exporter": "python",
   "pygments_lexer": "ipython3",
   "version": "3.6.3"
  }
 },
 "nbformat": 4,
 "nbformat_minor": 2
}
