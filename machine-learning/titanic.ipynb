{
 "cells": [
  {
   "cell_type": "markdown",
   "metadata": {
    "collapsed": true,
    "pycharm": {}
   },
   "source": [
    "# Decision Trees with Titanic Kaggle Dataset"
   ]
  },
  {
   "cell_type": "code",
   "execution_count": 1,
   "metadata": {
    "pycharm": {
     "is_executing": false
    }
   },
   "outputs": [
    {
     "data": {
      "text/html": [
       "<div>\n",
       "<style scoped>\n",
       "    .dataframe tbody tr th:only-of-type {\n",
       "        vertical-align: middle;\n",
       "    }\n",
       "\n",
       "    .dataframe tbody tr th {\n",
       "        vertical-align: top;\n",
       "    }\n",
       "\n",
       "    .dataframe thead th {\n",
       "        text-align: right;\n",
       "    }\n",
       "</style>\n",
       "<table border=\"1\" class=\"dataframe\">\n",
       "  <thead>\n",
       "    <tr style=\"text-align: right;\">\n",
       "      <th></th>\n",
       "      <th>pclass</th>\n",
       "      <th>survived</th>\n",
       "      <th>name</th>\n",
       "      <th>sex</th>\n",
       "      <th>age</th>\n",
       "      <th>sibsp</th>\n",
       "      <th>parch</th>\n",
       "      <th>ticket</th>\n",
       "      <th>fare</th>\n",
       "      <th>cabin</th>\n",
       "      <th>embarked</th>\n",
       "      <th>boat</th>\n",
       "      <th>body</th>\n",
       "      <th>home.dest</th>\n",
       "    </tr>\n",
       "  </thead>\n",
       "  <tbody>\n",
       "    <tr>\n",
       "      <th>0</th>\n",
       "      <td>1</td>\n",
       "      <td>1</td>\n",
       "      <td>Allen, Miss. Elisabeth Walton</td>\n",
       "      <td>female</td>\n",
       "      <td>29.00</td>\n",
       "      <td>0</td>\n",
       "      <td>0</td>\n",
       "      <td>24160</td>\n",
       "      <td>211.3375</td>\n",
       "      <td>B5</td>\n",
       "      <td>S</td>\n",
       "      <td>2</td>\n",
       "      <td>NaN</td>\n",
       "      <td>St Louis, MO</td>\n",
       "    </tr>\n",
       "    <tr>\n",
       "      <th>1</th>\n",
       "      <td>1</td>\n",
       "      <td>1</td>\n",
       "      <td>Allison, Master. Hudson Trevor</td>\n",
       "      <td>male</td>\n",
       "      <td>0.92</td>\n",
       "      <td>1</td>\n",
       "      <td>2</td>\n",
       "      <td>113781</td>\n",
       "      <td>151.5500</td>\n",
       "      <td>C22 C26</td>\n",
       "      <td>S</td>\n",
       "      <td>11</td>\n",
       "      <td>NaN</td>\n",
       "      <td>Montreal, PQ / Chesterville, ON</td>\n",
       "    </tr>\n",
       "    <tr>\n",
       "      <th>2</th>\n",
       "      <td>1</td>\n",
       "      <td>0</td>\n",
       "      <td>Allison, Miss. Helen Loraine</td>\n",
       "      <td>female</td>\n",
       "      <td>2.00</td>\n",
       "      <td>1</td>\n",
       "      <td>2</td>\n",
       "      <td>113781</td>\n",
       "      <td>151.5500</td>\n",
       "      <td>C22 C26</td>\n",
       "      <td>S</td>\n",
       "      <td>NaN</td>\n",
       "      <td>NaN</td>\n",
       "      <td>Montreal, PQ / Chesterville, ON</td>\n",
       "    </tr>\n",
       "    <tr>\n",
       "      <th>3</th>\n",
       "      <td>1</td>\n",
       "      <td>0</td>\n",
       "      <td>Allison, Mr. Hudson Joshua Creighton</td>\n",
       "      <td>male</td>\n",
       "      <td>30.00</td>\n",
       "      <td>1</td>\n",
       "      <td>2</td>\n",
       "      <td>113781</td>\n",
       "      <td>151.5500</td>\n",
       "      <td>C22 C26</td>\n",
       "      <td>S</td>\n",
       "      <td>NaN</td>\n",
       "      <td>135.0</td>\n",
       "      <td>Montreal, PQ / Chesterville, ON</td>\n",
       "    </tr>\n",
       "    <tr>\n",
       "      <th>4</th>\n",
       "      <td>1</td>\n",
       "      <td>0</td>\n",
       "      <td>Allison, Mrs. Hudson J C (Bessie Waldo Daniels)</td>\n",
       "      <td>female</td>\n",
       "      <td>25.00</td>\n",
       "      <td>1</td>\n",
       "      <td>2</td>\n",
       "      <td>113781</td>\n",
       "      <td>151.5500</td>\n",
       "      <td>C22 C26</td>\n",
       "      <td>S</td>\n",
       "      <td>NaN</td>\n",
       "      <td>NaN</td>\n",
       "      <td>Montreal, PQ / Chesterville, ON</td>\n",
       "    </tr>\n",
       "  </tbody>\n",
       "</table>\n",
       "</div>"
      ],
      "text/plain": [
       "   pclass  survived                                             name     sex  \\\n",
       "0       1         1                    Allen, Miss. Elisabeth Walton  female   \n",
       "1       1         1                   Allison, Master. Hudson Trevor    male   \n",
       "2       1         0                     Allison, Miss. Helen Loraine  female   \n",
       "3       1         0             Allison, Mr. Hudson Joshua Creighton    male   \n",
       "4       1         0  Allison, Mrs. Hudson J C (Bessie Waldo Daniels)  female   \n",
       "\n",
       "     age  sibsp  parch  ticket      fare    cabin embarked boat   body  \\\n",
       "0  29.00      0      0   24160  211.3375       B5        S    2    NaN   \n",
       "1   0.92      1      2  113781  151.5500  C22 C26        S   11    NaN   \n",
       "2   2.00      1      2  113781  151.5500  C22 C26        S  NaN    NaN   \n",
       "3  30.00      1      2  113781  151.5500  C22 C26        S  NaN  135.0   \n",
       "4  25.00      1      2  113781  151.5500  C22 C26        S  NaN    NaN   \n",
       "\n",
       "                         home.dest  \n",
       "0                     St Louis, MO  \n",
       "1  Montreal, PQ / Chesterville, ON  \n",
       "2  Montreal, PQ / Chesterville, ON  \n",
       "3  Montreal, PQ / Chesterville, ON  \n",
       "4  Montreal, PQ / Chesterville, ON  "
      ]
     },
     "execution_count": 1,
     "metadata": {},
     "output_type": "execute_result"
    }
   ],
   "source": [
    "import pandas\n",
    "from dtreeviz.trees import dtreeviz\n",
    "data = pandas.read_csv(\"/Users/kaonpark/workspace/github.com/likejazz/jupyter-notebooks/data/titanic.csv\")\n",
    "data.head()"
   ]
  },
  {
   "cell_type": "code",
   "execution_count": 2,
   "metadata": {
    "pycharm": {
     "is_executing": false
    }
   },
   "outputs": [
    {
     "data": {
      "text/plain": [
       "(0    1\n",
       " 1    1\n",
       " 2    0\n",
       " 3    0\n",
       " 4    0\n",
       " Name: survived, dtype: int64,    pclass  sex  age  sibsp      fare\n",
       " 0       1    0   29      0  211.3375\n",
       " 1       1    1    0      1  151.5500\n",
       " 2       1    0    2      1  151.5500\n",
       " 3       1    1   30      1  151.5500\n",
       " 4       1    0   25      1  151.5500)"
      ]
     },
     "execution_count": 2,
     "metadata": {},
     "output_type": "execute_result"
    }
   ],
   "source": [
    "y, X = data['survived'], data[['pclass','sex','age','sibsp', 'fare']].fillna(0)\n",
    "X['sex'].replace(['female','male'],[0,1],inplace=True)\n",
    "X['age'] = X['age'].astype(int)\n",
    "y.head(), X.head()"
   ]
  },
  {
   "cell_type": "code",
   "execution_count": 3,
   "metadata": {
    "pycharm": {
     "is_executing": false
    }
   },
   "outputs": [
    {
     "data": {
      "text/plain": [
       "Index(['pclass', 'sex', 'age', 'sibsp', 'fare'], dtype='object')"
      ]
     },
     "execution_count": 3,
     "metadata": {},
     "output_type": "execute_result"
    }
   ],
   "source": [
    "X.columns"
   ]
  },
  {
   "cell_type": "code",
   "execution_count": 4,
   "metadata": {
    "pycharm": {
     "is_executing": false
    }
   },
   "outputs": [
    {
     "data": {
      "text/plain": [
       "(1047, 1047, 262, 262)"
      ]
     },
     "execution_count": 4,
     "metadata": {},
     "output_type": "execute_result"
    }
   ],
   "source": [
    "from sklearn.model_selection import train_test_split\n",
    "X_train, X_test, y_train, y_test = train_test_split(X,y,test_size=0.2, random_state=123)\n",
    "len(X_train), len(y_train), len(X_test), len(y_test)"
   ]
  },
  {
   "cell_type": "code",
   "execution_count": 5,
   "metadata": {
    "pycharm": {
     "is_executing": false
    }
   },
   "outputs": [
    {
     "data": {
      "text/plain": [
       "0.8091603053435115"
      ]
     },
     "execution_count": 5,
     "metadata": {},
     "output_type": "execute_result"
    }
   ],
   "source": [
    "from sklearn import tree\n",
    "clf = tree.DecisionTreeClassifier(max_depth=3)\n",
    "clf.fit(X_train, y_train)\n",
    "clf.score(X_test, y_test)\n"
   ]
  },
  {
   "cell_type": "code",
   "execution_count": 6,
   "metadata": {
    "pycharm": {
     "is_executing": false,
     "metadata": false,
     "name": "#%%\n"
    }
   },
   "outputs": [
    {
     "name": "stderr",
     "output_type": "stream",
     "text": [
      "/usr/local/anaconda3/envs/python3.6/lib/python3.6/site-packages/matplotlib/font_manager.py:1241: UserWarning: findfont: Font family ['Arial'] not found. Falling back to DejaVu Sans.\n",
      "  (prop.get_family(), self.defaultFamily[fontext]))\n"
     ]
    }
   ],
   "source": [
    "viz = dtreeviz(clf, X_train, y_train, target_name='variety', \n",
    "               feature_names=X.columns,\n",
    "               class_names=[\"dead\", \"surv\"],\n",
    ")\n",
    "viz.view()"
   ]
  },
  {
   "cell_type": "code",
   "execution_count": 7,
   "metadata": {
    "pycharm": {}
   },
   "outputs": [
    {
     "data": {
      "image/svg+xml": [
       "<?xml version=\"1.0\" encoding=\"UTF-8\" standalone=\"no\"?>\n",
       "<!DOCTYPE svg PUBLIC \"-//W3C//DTD SVG 1.1//EN\"\n",
       " \"http://www.w3.org/Graphics/SVG/1.1/DTD/svg11.dtd\">\n",
       "<!-- Generated by graphviz version 2.40.1 (20161225.0304)\n",
       " -->\n",
       "<!-- Title: Tree Pages: 1 -->\n",
       "<svg width=\"1029pt\" height=\"414pt\"\n",
       " viewBox=\"0.00 0.00 1028.61 414.00\" xmlns=\"http://www.w3.org/2000/svg\" xmlns:xlink=\"http://www.w3.org/1999/xlink\">\n",
       "<g id=\"graph0\" class=\"graph\" transform=\"scale(1 1) rotate(0) translate(4 410)\">\n",
       "<title>Tree</title>\n",
       "<polygon fill=\"#ffffff\" stroke=\"transparent\" points=\"-4,4 -4,-410 1024.6108,-410 1024.6108,4 -4,4\"/>\n",
       "<!-- 0 -->\n",
       "<g id=\"node1\" class=\"node\">\n",
       "<title>0</title>\n",
       "<path fill=\"#e58139\" fill-opacity=\"0.400000\" stroke=\"#000000\" d=\"M545.2469,-406C545.2469,-406 441.8478,-406 441.8478,-406 435.8478,-406 429.8478,-400 429.8478,-394 429.8478,-394 429.8478,-340 429.8478,-340 429.8478,-334 435.8478,-328 441.8478,-328 441.8478,-328 545.2469,-328 545.2469,-328 551.2469,-328 557.2469,-334 557.2469,-340 557.2469,-340 557.2469,-394 557.2469,-394 557.2469,-400 551.2469,-406 545.2469,-406\"/>\n",
       "<text text-anchor=\"start\" x=\"465.1919\" y=\"-390.8\" font-family=\"Helvetica,sans-Serif\" font-size=\"14.00\" fill=\"#000000\">sex ≤ 0.5</text>\n",
       "<text text-anchor=\"start\" x=\"457.1563\" y=\"-376.8\" font-family=\"Helvetica,sans-Serif\" font-size=\"14.00\" fill=\"#000000\">gini = 0.468</text>\n",
       "<text text-anchor=\"start\" x=\"443.9321\" y=\"-362.8\" font-family=\"Helvetica,sans-Serif\" font-size=\"14.00\" fill=\"#000000\">samples = 1047</text>\n",
       "<text text-anchor=\"start\" x=\"437.6978\" y=\"-348.8\" font-family=\"Helvetica,sans-Serif\" font-size=\"14.00\" fill=\"#000000\">value = [655, 392]</text>\n",
       "<text text-anchor=\"start\" x=\"454.0493\" y=\"-334.8\" font-family=\"Helvetica,sans-Serif\" font-size=\"14.00\" fill=\"#000000\">class = dead</text>\n",
       "</g>\n",
       "<!-- 1 -->\n",
       "<g id=\"node2\" class=\"node\">\n",
       "<title>1</title>\n",
       "<path fill=\"#399de5\" fill-opacity=\"0.596078\" stroke=\"#000000\" d=\"M421.2469,-292C421.2469,-292 317.8478,-292 317.8478,-292 311.8478,-292 305.8478,-286 305.8478,-280 305.8478,-280 305.8478,-226 305.8478,-226 305.8478,-220 311.8478,-214 317.8478,-214 317.8478,-214 421.2469,-214 421.2469,-214 427.2469,-214 433.2469,-220 433.2469,-226 433.2469,-226 433.2469,-280 433.2469,-280 433.2469,-286 427.2469,-292 421.2469,-292\"/>\n",
       "<text text-anchor=\"start\" x=\"332.2437\" y=\"-276.8\" font-family=\"Helvetica,sans-Serif\" font-size=\"14.00\" fill=\"#000000\">pclass ≤ 2.5</text>\n",
       "<text text-anchor=\"start\" x=\"333.1563\" y=\"-262.8\" font-family=\"Helvetica,sans-Serif\" font-size=\"14.00\" fill=\"#000000\">gini = 0.409</text>\n",
       "<text text-anchor=\"start\" x=\"323.8252\" y=\"-248.8\" font-family=\"Helvetica,sans-Serif\" font-size=\"14.00\" fill=\"#000000\">samples = 369</text>\n",
       "<text text-anchor=\"start\" x=\"313.6978\" y=\"-234.8\" font-family=\"Helvetica,sans-Serif\" font-size=\"14.00\" fill=\"#000000\">value = [106, 263]</text>\n",
       "<text text-anchor=\"start\" x=\"332.3975\" y=\"-220.8\" font-family=\"Helvetica,sans-Serif\" font-size=\"14.00\" fill=\"#000000\">class = surv</text>\n",
       "</g>\n",
       "<!-- 0&#45;&gt;1 -->\n",
       "<g id=\"edge1\" class=\"edge\">\n",
       "<title>0&#45;&gt;1</title>\n",
       "<path fill=\"none\" stroke=\"#000000\" d=\"M450.8736,-327.7677C440.8391,-318.5424 430.0542,-308.6273 419.7241,-299.1302\"/>\n",
       "<polygon fill=\"#000000\" stroke=\"#000000\" points=\"422.0303,-296.4961 412.2998,-292.3046 417.2927,-301.6493 422.0303,-296.4961\"/>\n",
       "<text text-anchor=\"middle\" x=\"413.3493\" y=\"-313.0826\" font-family=\"Helvetica,sans-Serif\" font-size=\"14.00\" fill=\"#000000\">True</text>\n",
       "</g>\n",
       "<!-- 8 -->\n",
       "<g id=\"node9\" class=\"node\">\n",
       "<title>8</title>\n",
       "<path fill=\"#e58139\" fill-opacity=\"0.764706\" stroke=\"#000000\" d=\"M683.2469,-292C683.2469,-292 579.8478,-292 579.8478,-292 573.8478,-292 567.8478,-286 567.8478,-280 567.8478,-280 567.8478,-226 567.8478,-226 567.8478,-220 573.8478,-214 579.8478,-214 579.8478,-214 683.2469,-214 683.2469,-214 689.2469,-214 695.2469,-220 695.2469,-226 695.2469,-226 695.2469,-280 695.2469,-280 695.2469,-286 689.2469,-292 683.2469,-292\"/>\n",
       "<text text-anchor=\"start\" x=\"594.2437\" y=\"-276.8\" font-family=\"Helvetica,sans-Serif\" font-size=\"14.00\" fill=\"#000000\">pclass ≤ 1.5</text>\n",
       "<text text-anchor=\"start\" x=\"595.1563\" y=\"-262.8\" font-family=\"Helvetica,sans-Serif\" font-size=\"14.00\" fill=\"#000000\">gini = 0.308</text>\n",
       "<text text-anchor=\"start\" x=\"585.8252\" y=\"-248.8\" font-family=\"Helvetica,sans-Serif\" font-size=\"14.00\" fill=\"#000000\">samples = 678</text>\n",
       "<text text-anchor=\"start\" x=\"575.6978\" y=\"-234.8\" font-family=\"Helvetica,sans-Serif\" font-size=\"14.00\" fill=\"#000000\">value = [549, 129]</text>\n",
       "<text text-anchor=\"start\" x=\"592.0493\" y=\"-220.8\" font-family=\"Helvetica,sans-Serif\" font-size=\"14.00\" fill=\"#000000\">class = dead</text>\n",
       "</g>\n",
       "<!-- 0&#45;&gt;8 -->\n",
       "<g id=\"edge8\" class=\"edge\">\n",
       "<title>0&#45;&gt;8</title>\n",
       "<path fill=\"none\" stroke=\"#000000\" d=\"M541.0391,-327.7677C552.3149,-318.4529 564.4422,-308.4347 576.0402,-298.8538\"/>\n",
       "<polygon fill=\"#000000\" stroke=\"#000000\" points=\"578.4875,-301.3719 583.9681,-292.3046 574.0293,-295.9751 578.4875,-301.3719\"/>\n",
       "<text text-anchor=\"middle\" x=\"581.5978\" y=\"-312.992\" font-family=\"Helvetica,sans-Serif\" font-size=\"14.00\" fill=\"#000000\">False</text>\n",
       "</g>\n",
       "<!-- 2 -->\n",
       "<g id=\"node3\" class=\"node\">\n",
       "<title>2</title>\n",
       "<path fill=\"#399de5\" fill-opacity=\"0.909804\" stroke=\"#000000\" d=\"M232.4605,-178C232.4605,-178 136.6342,-178 136.6342,-178 130.6342,-178 124.6342,-172 124.6342,-166 124.6342,-166 124.6342,-112 124.6342,-112 124.6342,-106 130.6342,-100 136.6342,-100 136.6342,-100 232.4605,-100 232.4605,-100 238.4605,-100 244.4605,-106 244.4605,-112 244.4605,-112 244.4605,-166 244.4605,-166 244.4605,-172 238.4605,-178 232.4605,-178\"/>\n",
       "<text text-anchor=\"start\" x=\"143.3438\" y=\"-162.8\" font-family=\"Helvetica,sans-Serif\" font-size=\"14.00\" fill=\"#000000\">fare ≤ 26.125</text>\n",
       "<text text-anchor=\"start\" x=\"148.1563\" y=\"-148.8\" font-family=\"Helvetica,sans-Serif\" font-size=\"14.00\" fill=\"#000000\">gini = 0.154</text>\n",
       "<text text-anchor=\"start\" x=\"138.8252\" y=\"-134.8\" font-family=\"Helvetica,sans-Serif\" font-size=\"14.00\" fill=\"#000000\">samples = 190</text>\n",
       "<text text-anchor=\"start\" x=\"132.5908\" y=\"-120.8\" font-family=\"Helvetica,sans-Serif\" font-size=\"14.00\" fill=\"#000000\">value = [16, 174]</text>\n",
       "<text text-anchor=\"start\" x=\"147.3975\" y=\"-106.8\" font-family=\"Helvetica,sans-Serif\" font-size=\"14.00\" fill=\"#000000\">class = surv</text>\n",
       "</g>\n",
       "<!-- 1&#45;&gt;2 -->\n",
       "<g id=\"edge2\" class=\"edge\">\n",
       "<title>1&#45;&gt;2</title>\n",
       "<path fill=\"none\" stroke=\"#000000\" d=\"M306.1397,-213.9272C289.2162,-203.4986 270.8462,-192.1787 253.634,-181.5723\"/>\n",
       "<polygon fill=\"#000000\" stroke=\"#000000\" points=\"255.102,-178.3658 244.7524,-176.0993 251.4297,-184.3252 255.102,-178.3658\"/>\n",
       "</g>\n",
       "<!-- 5 -->\n",
       "<g id=\"node6\" class=\"node\">\n",
       "<title>5</title>\n",
       "<path fill=\"#e58139\" fill-opacity=\"0.011765\" stroke=\"#000000\" d=\"M413.6744,-178C413.6744,-178 325.4203,-178 325.4203,-178 319.4203,-178 313.4203,-172 313.4203,-166 313.4203,-166 313.4203,-112 313.4203,-112 313.4203,-106 319.4203,-100 325.4203,-100 325.4203,-100 413.6744,-100 413.6744,-100 419.6744,-100 425.6744,-106 425.6744,-112 425.6744,-112 425.6744,-166 425.6744,-166 425.6744,-172 419.6744,-178 413.6744,-178\"/>\n",
       "<text text-anchor=\"start\" x=\"332.2368\" y=\"-162.8\" font-family=\"Helvetica,sans-Serif\" font-size=\"14.00\" fill=\"#000000\">fare ≤ 23.35</text>\n",
       "<text text-anchor=\"start\" x=\"340.9424\" y=\"-148.8\" font-family=\"Helvetica,sans-Serif\" font-size=\"14.00\" fill=\"#000000\">gini = 0.5</text>\n",
       "<text text-anchor=\"start\" x=\"323.8252\" y=\"-134.8\" font-family=\"Helvetica,sans-Serif\" font-size=\"14.00\" fill=\"#000000\">samples = 179</text>\n",
       "<text text-anchor=\"start\" x=\"321.4839\" y=\"-120.8\" font-family=\"Helvetica,sans-Serif\" font-size=\"14.00\" fill=\"#000000\">value = [90, 89]</text>\n",
       "<text text-anchor=\"start\" x=\"330.0493\" y=\"-106.8\" font-family=\"Helvetica,sans-Serif\" font-size=\"14.00\" fill=\"#000000\">class = dead</text>\n",
       "</g>\n",
       "<!-- 1&#45;&gt;5 -->\n",
       "<g id=\"edge5\" class=\"edge\">\n",
       "<title>1&#45;&gt;5</title>\n",
       "<path fill=\"none\" stroke=\"#000000\" d=\"M369.5474,-213.7677C369.5474,-205.6172 369.5474,-196.9283 369.5474,-188.4649\"/>\n",
       "<polygon fill=\"#000000\" stroke=\"#000000\" points=\"373.0475,-188.3046 369.5474,-178.3046 366.0475,-188.3047 373.0475,-188.3046\"/>\n",
       "</g>\n",
       "<!-- 3 -->\n",
       "<g id=\"node4\" class=\"node\">\n",
       "<title>3</title>\n",
       "<path fill=\"#399de5\" fill-opacity=\"0.800000\" stroke=\"#000000\" d=\"M99.1421,-64C99.1421,-64 11.9526,-64 11.9526,-64 5.9526,-64 -.0474,-58 -.0474,-52 -.0474,-52 -.0474,-12 -.0474,-12 -.0474,-6 5.9526,0 11.9526,0 11.9526,0 99.1421,0 99.1421,0 105.1421,0 111.1421,-6 111.1421,-12 111.1421,-12 111.1421,-52 111.1421,-52 111.1421,-58 105.1421,-64 99.1421,-64\"/>\n",
       "<text text-anchor=\"start\" x=\"19.1563\" y=\"-48.8\" font-family=\"Helvetica,sans-Serif\" font-size=\"14.00\" fill=\"#000000\">gini = 0.278</text>\n",
       "<text text-anchor=\"start\" x=\"13.7183\" y=\"-34.8\" font-family=\"Helvetica,sans-Serif\" font-size=\"14.00\" fill=\"#000000\">samples = 66</text>\n",
       "<text text-anchor=\"start\" x=\"8\" y=\"-20.8\" font-family=\"Helvetica,sans-Serif\" font-size=\"14.00\" fill=\"#000000\">value = [11, 55]</text>\n",
       "<text text-anchor=\"start\" x=\"18.3975\" y=\"-6.8\" font-family=\"Helvetica,sans-Serif\" font-size=\"14.00\" fill=\"#000000\">class = surv</text>\n",
       "</g>\n",
       "<!-- 2&#45;&gt;3 -->\n",
       "<g id=\"edge3\" class=\"edge\">\n",
       "<title>2&#45;&gt;3</title>\n",
       "<path fill=\"none\" stroke=\"#000000\" d=\"M137.245,-99.7647C125.7938,-90.2664 113.5624,-80.121 102.1439,-70.6498\"/>\n",
       "<polygon fill=\"#000000\" stroke=\"#000000\" points=\"104.3196,-67.9072 94.3883,-64.2169 99.8507,-73.295 104.3196,-67.9072\"/>\n",
       "</g>\n",
       "<!-- 4 -->\n",
       "<g id=\"node5\" class=\"node\">\n",
       "<title>4</title>\n",
       "<path fill=\"#399de5\" fill-opacity=\"0.956863\" stroke=\"#000000\" d=\"M228.1421,-64C228.1421,-64 140.9526,-64 140.9526,-64 134.9526,-64 128.9526,-58 128.9526,-52 128.9526,-52 128.9526,-12 128.9526,-12 128.9526,-6 134.9526,0 140.9526,0 140.9526,0 228.1421,0 228.1421,0 234.1421,0 240.1421,-6 240.1421,-12 240.1421,-12 240.1421,-52 240.1421,-52 240.1421,-58 234.1421,-64 228.1421,-64\"/>\n",
       "<text text-anchor=\"start\" x=\"148.1563\" y=\"-48.8\" font-family=\"Helvetica,sans-Serif\" font-size=\"14.00\" fill=\"#000000\">gini = 0.077</text>\n",
       "<text text-anchor=\"start\" x=\"138.8252\" y=\"-34.8\" font-family=\"Helvetica,sans-Serif\" font-size=\"14.00\" fill=\"#000000\">samples = 124</text>\n",
       "<text text-anchor=\"start\" x=\"137\" y=\"-20.8\" font-family=\"Helvetica,sans-Serif\" font-size=\"14.00\" fill=\"#000000\">value = [5, 119]</text>\n",
       "<text text-anchor=\"start\" x=\"147.3975\" y=\"-6.8\" font-family=\"Helvetica,sans-Serif\" font-size=\"14.00\" fill=\"#000000\">class = surv</text>\n",
       "</g>\n",
       "<!-- 2&#45;&gt;4 -->\n",
       "<g id=\"edge4\" class=\"edge\">\n",
       "<title>2&#45;&gt;4</title>\n",
       "<path fill=\"none\" stroke=\"#000000\" d=\"M184.5474,-99.7647C184.5474,-91.4537 184.5474,-82.6472 184.5474,-74.2305\"/>\n",
       "<polygon fill=\"#000000\" stroke=\"#000000\" points=\"188.0475,-74.2168 184.5474,-64.2169 181.0475,-74.2169 188.0475,-74.2168\"/>\n",
       "</g>\n",
       "<!-- 6 -->\n",
       "<g id=\"node7\" class=\"node\">\n",
       "<title>6</title>\n",
       "<path fill=\"#399de5\" fill-opacity=\"0.262745\" stroke=\"#000000\" d=\"M358.6744,-64C358.6744,-64 270.4203,-64 270.4203,-64 264.4203,-64 258.4203,-58 258.4203,-52 258.4203,-52 258.4203,-12 258.4203,-12 258.4203,-6 264.4203,0 270.4203,0 270.4203,0 358.6744,0 358.6744,0 364.6744,0 370.6744,-6 370.6744,-12 370.6744,-12 370.6744,-52 370.6744,-52 370.6744,-58 364.6744,-64 358.6744,-64\"/>\n",
       "<text text-anchor=\"start\" x=\"278.1563\" y=\"-48.8\" font-family=\"Helvetica,sans-Serif\" font-size=\"14.00\" fill=\"#000000\">gini = 0.488</text>\n",
       "<text text-anchor=\"start\" x=\"268.8252\" y=\"-34.8\" font-family=\"Helvetica,sans-Serif\" font-size=\"14.00\" fill=\"#000000\">samples = 151</text>\n",
       "<text text-anchor=\"start\" x=\"266.4839\" y=\"-20.8\" font-family=\"Helvetica,sans-Serif\" font-size=\"14.00\" fill=\"#000000\">value = [64, 87]</text>\n",
       "<text text-anchor=\"start\" x=\"277.3975\" y=\"-6.8\" font-family=\"Helvetica,sans-Serif\" font-size=\"14.00\" fill=\"#000000\">class = surv</text>\n",
       "</g>\n",
       "<!-- 5&#45;&gt;6 -->\n",
       "<g id=\"edge6\" class=\"edge\">\n",
       "<title>5&#45;&gt;6</title>\n",
       "<path fill=\"none\" stroke=\"#000000\" d=\"M349.3797,-99.7647C344.9199,-91.0884 340.1825,-81.8721 335.6853,-73.123\"/>\n",
       "<polygon fill=\"#000000\" stroke=\"#000000\" points=\"338.7919,-71.5107 331.1074,-64.2169 332.5662,-74.7108 338.7919,-71.5107\"/>\n",
       "</g>\n",
       "<!-- 7 -->\n",
       "<g id=\"node8\" class=\"node\">\n",
       "<title>7</title>\n",
       "<path fill=\"#e58139\" fill-opacity=\"0.921569\" stroke=\"#000000\" d=\"M480.8887,-64C480.8887,-64 400.206,-64 400.206,-64 394.206,-64 388.206,-58 388.206,-52 388.206,-52 388.206,-12 388.206,-12 388.206,-6 394.206,0 400.206,0 400.206,0 480.8887,0 480.8887,0 486.8887,0 492.8887,-6 492.8887,-12 492.8887,-12 492.8887,-52 492.8887,-52 492.8887,-58 486.8887,-64 480.8887,-64\"/>\n",
       "<text text-anchor=\"start\" x=\"404.1563\" y=\"-48.8\" font-family=\"Helvetica,sans-Serif\" font-size=\"14.00\" fill=\"#000000\">gini = 0.133</text>\n",
       "<text text-anchor=\"start\" x=\"398.7183\" y=\"-34.8\" font-family=\"Helvetica,sans-Serif\" font-size=\"14.00\" fill=\"#000000\">samples = 28</text>\n",
       "<text text-anchor=\"start\" x=\"396.377\" y=\"-20.8\" font-family=\"Helvetica,sans-Serif\" font-size=\"14.00\" fill=\"#000000\">value = [26, 2]</text>\n",
       "<text text-anchor=\"start\" x=\"401.0493\" y=\"-6.8\" font-family=\"Helvetica,sans-Serif\" font-size=\"14.00\" fill=\"#000000\">class = dead</text>\n",
       "</g>\n",
       "<!-- 5&#45;&gt;7 -->\n",
       "<g id=\"edge7\" class=\"edge\">\n",
       "<title>5&#45;&gt;7</title>\n",
       "<path fill=\"none\" stroke=\"#000000\" d=\"M395.582,-99.7647C401.4604,-90.9057 407.7123,-81.4838 413.6264,-72.571\"/>\n",
       "<polygon fill=\"#000000\" stroke=\"#000000\" points=\"416.5571,-74.4845 419.1698,-64.2169 410.7244,-70.6142 416.5571,-74.4845\"/>\n",
       "</g>\n",
       "<!-- 9 -->\n",
       "<g id=\"node10\" class=\"node\">\n",
       "<title>9</title>\n",
       "<path fill=\"#e58139\" fill-opacity=\"0.517647\" stroke=\"#000000\" d=\"M675.6744,-178C675.6744,-178 587.4203,-178 587.4203,-178 581.4203,-178 575.4203,-172 575.4203,-166 575.4203,-166 575.4203,-112 575.4203,-112 575.4203,-106 581.4203,-100 587.4203,-100 587.4203,-100 675.6744,-100 675.6744,-100 681.6744,-100 687.6744,-106 687.6744,-112 687.6744,-112 687.6744,-166 687.6744,-166 687.6744,-172 681.6744,-178 675.6744,-178\"/>\n",
       "<text text-anchor=\"start\" x=\"598.5127\" y=\"-162.8\" font-family=\"Helvetica,sans-Serif\" font-size=\"14.00\" fill=\"#000000\">age ≤ 38.5</text>\n",
       "<text text-anchor=\"start\" x=\"599.0493\" y=\"-148.8\" font-family=\"Helvetica,sans-Serif\" font-size=\"14.00\" fill=\"#000000\">gini = 0.44</text>\n",
       "<text text-anchor=\"start\" x=\"585.8252\" y=\"-134.8\" font-family=\"Helvetica,sans-Serif\" font-size=\"14.00\" fill=\"#000000\">samples = 141</text>\n",
       "<text text-anchor=\"start\" x=\"583.4839\" y=\"-120.8\" font-family=\"Helvetica,sans-Serif\" font-size=\"14.00\" fill=\"#000000\">value = [95, 46]</text>\n",
       "<text text-anchor=\"start\" x=\"592.0493\" y=\"-106.8\" font-family=\"Helvetica,sans-Serif\" font-size=\"14.00\" fill=\"#000000\">class = dead</text>\n",
       "</g>\n",
       "<!-- 8&#45;&gt;9 -->\n",
       "<g id=\"edge9\" class=\"edge\">\n",
       "<title>8&#45;&gt;9</title>\n",
       "<path fill=\"none\" stroke=\"#000000\" d=\"M631.5474,-213.7677C631.5474,-205.6172 631.5474,-196.9283 631.5474,-188.4649\"/>\n",
       "<polygon fill=\"#000000\" stroke=\"#000000\" points=\"635.0475,-188.3046 631.5474,-178.3046 628.0475,-188.3047 635.0475,-188.3046\"/>\n",
       "</g>\n",
       "<!-- 12 -->\n",
       "<g id=\"node13\" class=\"node\">\n",
       "<title>12</title>\n",
       "<path fill=\"#e58139\" fill-opacity=\"0.815686\" stroke=\"#000000\" d=\"M878.4605,-178C878.4605,-178 782.6342,-178 782.6342,-178 776.6342,-178 770.6342,-172 770.6342,-166 770.6342,-166 770.6342,-112 770.6342,-112 770.6342,-106 776.6342,-100 782.6342,-100 782.6342,-100 878.4605,-100 878.4605,-100 884.4605,-100 890.4605,-106 890.4605,-112 890.4605,-112 890.4605,-166 890.4605,-166 890.4605,-172 884.4605,-178 878.4605,-178\"/>\n",
       "<text text-anchor=\"start\" x=\"797.5127\" y=\"-162.8\" font-family=\"Helvetica,sans-Serif\" font-size=\"14.00\" fill=\"#000000\">age ≤ 32.5</text>\n",
       "<text text-anchor=\"start\" x=\"794.1563\" y=\"-148.8\" font-family=\"Helvetica,sans-Serif\" font-size=\"14.00\" fill=\"#000000\">gini = 0.261</text>\n",
       "<text text-anchor=\"start\" x=\"784.8252\" y=\"-134.8\" font-family=\"Helvetica,sans-Serif\" font-size=\"14.00\" fill=\"#000000\">samples = 537</text>\n",
       "<text text-anchor=\"start\" x=\"778.5908\" y=\"-120.8\" font-family=\"Helvetica,sans-Serif\" font-size=\"14.00\" fill=\"#000000\">value = [454, 83]</text>\n",
       "<text text-anchor=\"start\" x=\"791.0493\" y=\"-106.8\" font-family=\"Helvetica,sans-Serif\" font-size=\"14.00\" fill=\"#000000\">class = dead</text>\n",
       "</g>\n",
       "<!-- 8&#45;&gt;12 -->\n",
       "<g id=\"edge12\" class=\"edge\">\n",
       "<title>8&#45;&gt;12</title>\n",
       "<path fill=\"none\" stroke=\"#000000\" d=\"M695.3333,-216.4593C716.516,-204.3245 740.1887,-190.7633 761.7336,-178.421\"/>\n",
       "<polygon fill=\"#000000\" stroke=\"#000000\" points=\"763.5683,-181.4036 770.5055,-173.3958 760.0887,-175.3297 763.5683,-181.4036\"/>\n",
       "</g>\n",
       "<!-- 10 -->\n",
       "<g id=\"node11\" class=\"node\">\n",
       "<title>10</title>\n",
       "<path fill=\"#e58139\" fill-opacity=\"0.290196\" stroke=\"#000000\" d=\"M610.6744,-64C610.6744,-64 522.4203,-64 522.4203,-64 516.4203,-64 510.4203,-58 510.4203,-52 510.4203,-52 510.4203,-12 510.4203,-12 510.4203,-6 516.4203,0 522.4203,0 522.4203,0 610.6744,0 610.6744,0 616.6744,0 622.6744,-6 622.6744,-12 622.6744,-12 622.6744,-52 622.6744,-52 622.6744,-58 616.6744,-64 610.6744,-64\"/>\n",
       "<text text-anchor=\"start\" x=\"530.1563\" y=\"-48.8\" font-family=\"Helvetica,sans-Serif\" font-size=\"14.00\" fill=\"#000000\">gini = 0.485</text>\n",
       "<text text-anchor=\"start\" x=\"524.7183\" y=\"-34.8\" font-family=\"Helvetica,sans-Serif\" font-size=\"14.00\" fill=\"#000000\">samples = 82</text>\n",
       "<text text-anchor=\"start\" x=\"518.4839\" y=\"-20.8\" font-family=\"Helvetica,sans-Serif\" font-size=\"14.00\" fill=\"#000000\">value = [48, 34]</text>\n",
       "<text text-anchor=\"start\" x=\"527.0493\" y=\"-6.8\" font-family=\"Helvetica,sans-Serif\" font-size=\"14.00\" fill=\"#000000\">class = dead</text>\n",
       "</g>\n",
       "<!-- 9&#45;&gt;10 -->\n",
       "<g id=\"edge10\" class=\"edge\">\n",
       "<title>9&#45;&gt;10</title>\n",
       "<path fill=\"none\" stroke=\"#000000\" d=\"M607.7129,-99.7647C602.3867,-90.9971 596.7256,-81.678 591.3609,-72.8469\"/>\n",
       "<polygon fill=\"#000000\" stroke=\"#000000\" points=\"594.3016,-70.9463 586.1184,-64.2169 588.319,-74.5807 594.3016,-70.9463\"/>\n",
       "</g>\n",
       "<!-- 11 -->\n",
       "<g id=\"node12\" class=\"node\">\n",
       "<title>11</title>\n",
       "<path fill=\"#e58139\" fill-opacity=\"0.745098\" stroke=\"#000000\" d=\"M740.6744,-64C740.6744,-64 652.4203,-64 652.4203,-64 646.4203,-64 640.4203,-58 640.4203,-52 640.4203,-52 640.4203,-12 640.4203,-12 640.4203,-6 646.4203,0 652.4203,0 652.4203,0 740.6744,0 740.6744,0 746.6744,0 752.6744,-6 752.6744,-12 752.6744,-12 752.6744,-52 752.6744,-52 752.6744,-58 746.6744,-64 740.6744,-64\"/>\n",
       "<text text-anchor=\"start\" x=\"660.1563\" y=\"-48.8\" font-family=\"Helvetica,sans-Serif\" font-size=\"14.00\" fill=\"#000000\">gini = 0.324</text>\n",
       "<text text-anchor=\"start\" x=\"654.7183\" y=\"-34.8\" font-family=\"Helvetica,sans-Serif\" font-size=\"14.00\" fill=\"#000000\">samples = 59</text>\n",
       "<text text-anchor=\"start\" x=\"648.4839\" y=\"-20.8\" font-family=\"Helvetica,sans-Serif\" font-size=\"14.00\" fill=\"#000000\">value = [47, 12]</text>\n",
       "<text text-anchor=\"start\" x=\"657.0493\" y=\"-6.8\" font-family=\"Helvetica,sans-Serif\" font-size=\"14.00\" fill=\"#000000\">class = dead</text>\n",
       "</g>\n",
       "<!-- 9&#45;&gt;11 -->\n",
       "<g id=\"edge11\" class=\"edge\">\n",
       "<title>9&#45;&gt;11</title>\n",
       "<path fill=\"none\" stroke=\"#000000\" d=\"M655.3819,-99.7647C660.708,-90.9971 666.3692,-81.678 671.7339,-72.8469\"/>\n",
       "<polygon fill=\"#000000\" stroke=\"#000000\" points=\"674.7758,-74.5807 676.9764,-64.2169 668.7931,-70.9463 674.7758,-74.5807\"/>\n",
       "</g>\n",
       "<!-- 13 -->\n",
       "<g id=\"node14\" class=\"node\">\n",
       "<title>13</title>\n",
       "<path fill=\"#e58139\" fill-opacity=\"0.780392\" stroke=\"#000000\" d=\"M878.4605,-64C878.4605,-64 782.6342,-64 782.6342,-64 776.6342,-64 770.6342,-58 770.6342,-52 770.6342,-52 770.6342,-12 770.6342,-12 770.6342,-6 776.6342,0 782.6342,0 782.6342,0 878.4605,0 878.4605,0 884.4605,0 890.4605,-6 890.4605,-12 890.4605,-12 890.4605,-52 890.4605,-52 890.4605,-58 884.4605,-64 878.4605,-64\"/>\n",
       "<text text-anchor=\"start\" x=\"794.1563\" y=\"-48.8\" font-family=\"Helvetica,sans-Serif\" font-size=\"14.00\" fill=\"#000000\">gini = 0.296</text>\n",
       "<text text-anchor=\"start\" x=\"784.8252\" y=\"-34.8\" font-family=\"Helvetica,sans-Serif\" font-size=\"14.00\" fill=\"#000000\">samples = 421</text>\n",
       "<text text-anchor=\"start\" x=\"778.5908\" y=\"-20.8\" font-family=\"Helvetica,sans-Serif\" font-size=\"14.00\" fill=\"#000000\">value = [345, 76]</text>\n",
       "<text text-anchor=\"start\" x=\"791.0493\" y=\"-6.8\" font-family=\"Helvetica,sans-Serif\" font-size=\"14.00\" fill=\"#000000\">class = dead</text>\n",
       "</g>\n",
       "<!-- 12&#45;&gt;13 -->\n",
       "<g id=\"edge13\" class=\"edge\">\n",
       "<title>12&#45;&gt;13</title>\n",
       "<path fill=\"none\" stroke=\"#000000\" d=\"M830.5474,-99.7647C830.5474,-91.4537 830.5474,-82.6472 830.5474,-74.2305\"/>\n",
       "<polygon fill=\"#000000\" stroke=\"#000000\" points=\"834.0475,-74.2168 830.5474,-64.2169 827.0475,-74.2169 834.0475,-74.2168\"/>\n",
       "</g>\n",
       "<!-- 14 -->\n",
       "<g id=\"node15\" class=\"node\">\n",
       "<title>14</title>\n",
       "<path fill=\"#e58139\" fill-opacity=\"0.937255\" stroke=\"#000000\" d=\"M1008.6744,-64C1008.6744,-64 920.4203,-64 920.4203,-64 914.4203,-64 908.4203,-58 908.4203,-52 908.4203,-52 908.4203,-12 908.4203,-12 908.4203,-6 914.4203,0 920.4203,0 920.4203,0 1008.6744,0 1008.6744,0 1014.6744,0 1020.6744,-6 1020.6744,-12 1020.6744,-12 1020.6744,-52 1020.6744,-52 1020.6744,-58 1014.6744,-64 1008.6744,-64\"/>\n",
       "<text text-anchor=\"start\" x=\"928.6724\" y=\"-48.8\" font-family=\"Helvetica,sans-Serif\" font-size=\"14.00\" fill=\"#000000\">gini = 0.113</text>\n",
       "<text text-anchor=\"start\" x=\"919.3413\" y=\"-34.8\" font-family=\"Helvetica,sans-Serif\" font-size=\"14.00\" fill=\"#000000\">samples = 116</text>\n",
       "<text text-anchor=\"start\" x=\"916.4839\" y=\"-20.8\" font-family=\"Helvetica,sans-Serif\" font-size=\"14.00\" fill=\"#000000\">value = [109, 7]</text>\n",
       "<text text-anchor=\"start\" x=\"925.0493\" y=\"-6.8\" font-family=\"Helvetica,sans-Serif\" font-size=\"14.00\" fill=\"#000000\">class = dead</text>\n",
       "</g>\n",
       "<!-- 12&#45;&gt;14 -->\n",
       "<g id=\"edge14\" class=\"edge\">\n",
       "<title>12&#45;&gt;14</title>\n",
       "<path fill=\"none\" stroke=\"#000000\" d=\"M879.6831,-99.7647C891.5782,-90.2664 904.2837,-80.121 916.1448,-70.6498\"/>\n",
       "<polygon fill=\"#000000\" stroke=\"#000000\" points=\"918.5706,-73.1918 924.201,-64.2169 914.2026,-67.7217 918.5706,-73.1918\"/>\n",
       "</g>\n",
       "</g>\n",
       "</svg>\n"
      ],
      "text/plain": [
       "<graphviz.files.Source at 0x12e111fd0>"
      ]
     },
     "metadata": {},
     "output_type": "display_data"
    }
   ],
   "source": [
    "import os\n",
    "from tempfile import mkstemp\n",
    "import subprocess\n",
    "\n",
    "from sklearn.tree.export import export_graphviz\n",
    "\n",
    "def convert_decision_tree_to_ipython_image(clf, feature_names=None, class_names=None,\n",
    "                                           image_filename=None, tmp_dir=None):\n",
    "    dot_filename = mkstemp(suffix='.dot', dir=tmp_dir)[1]\n",
    "    with open(dot_filename, \"w\") as out_file:\n",
    "        export_graphviz(clf, out_file=out_file,\n",
    "                        feature_names=feature_names,\n",
    "                        class_names=class_names,\n",
    "                        filled=True, rounded=True,\n",
    "                        special_characters=True)\n",
    "\n",
    "    import graphviz\n",
    "    from IPython.display import display\n",
    "\n",
    "    with open(dot_filename) as f:\n",
    "        dot_graph = f.read()\n",
    "    display(graphviz.Source(dot_graph))\n",
    "    os.remove(dot_filename)\n",
    "\n",
    "convert_decision_tree_to_ipython_image(clf, image_filename='titanic.png', feature_names=X.columns, class_names=[\"dead\", \"surv\"])"
   ]
  },
  {
   "cell_type": "code",
   "execution_count": 8,
   "metadata": {
    "pycharm": {}
   },
   "outputs": [
    {
     "data": {
      "text/plain": [
       "array([0.20633449, 0.69231053, 0.03019166, 0.        , 0.07116332])"
      ]
     },
     "execution_count": 8,
     "metadata": {},
     "output_type": "execute_result"
    }
   ],
   "source": [
    "clf.feature_importances_"
   ]
  },
  {
   "cell_type": "code",
   "execution_count": 9,
   "metadata": {
    "pycharm": {}
   },
   "outputs": [
    {
     "data": {
      "image/png": "[encoded data removed]",
      "text/plain": [
       "<Figure size 432x288 with 1 Axes>"
      ]
     },
     "metadata": {
      "needs_background": "light"
     },
     "output_type": "display_data"
    }
   ],
   "source": [
    "%matplotlib inline\n",
    "import matplotlib.pyplot as plt\n",
    "import numpy as np\n",
    "def plot_feature_importances(clf):\n",
    "    n_features = X_train.shape[1]\n",
    "    plt.barh(range(n_features), clf.feature_importances_, align='center')\n",
    "    plt.yticks(np.arange(n_features), X.columns)\n",
    "    plt.xlabel(\"Feature importance\")\n",
    "    plt.ylabel(\"Feature\")\n",
    "    plt.ylim(-1, n_features)\n",
    "    \n",
    "plot_feature_importances(clf)"
   ]
  },
  {
   "cell_type": "code",
   "execution_count": 10,
   "metadata": {
    "pycharm": {}
   },
   "outputs": [
    {
     "data": {
      "text/plain": [
       "0.8129770992366412"
      ]
     },
     "execution_count": 10,
     "metadata": {},
     "output_type": "execute_result"
    }
   ],
   "source": [
    "from sklearn import ensemble\n",
    "clf_rf = ensemble.RandomForestClassifier(n_estimators=50, random_state=800)\n",
    "clf_rf.fit(X_train, y_train)\n",
    "clf_rf.score(X_test, y_test)"
   ]
  },
  {
   "cell_type": "code",
   "execution_count": 11,
   "metadata": {
    "pycharm": {}
   },
   "outputs": [
    {
     "data": {
      "image/png": "[encoded data removed]",
      "text/plain": [
       "<Figure size 432x288 with 1 Axes>"
      ]
     },
     "metadata": {
      "needs_background": "light"
     },
     "output_type": "display_data"
    }
   ],
   "source": [
    "plot_feature_importances(clf_rf)"
   ]
  },
  {
   "cell_type": "code",
   "execution_count": 12,
   "metadata": {
    "pycharm": {}
   },
   "outputs": [
    {
     "data": {
      "text/plain": [
       "0.8282442748091603"
      ]
     },
     "execution_count": 12,
     "metadata": {},
     "output_type": "execute_result"
    }
   ],
   "source": [
    "from sklearn import ensemble\n",
    "clf_gd = ensemble.GradientBoostingClassifier(random_state=800)\n",
    "clf_gd.fit(X_train, y_train)\n",
    "clf_gd.score(X_test, y_test)"
   ]
  },
  {
   "cell_type": "code",
   "execution_count": 13,
   "metadata": {
    "pycharm": {}
   },
   "outputs": [
    {
     "data": {
      "image/png": "[encoded data removed]",
      "text/plain": [
       "<Figure size 432x288 with 1 Axes>"
      ]
     },
     "metadata": {
      "needs_background": "light"
     },
     "output_type": "display_data"
    }
   ],
   "source": [
    "plot_feature_importances(clf_gd)"
   ]
  }
 ],
 "metadata": {
  "kernelspec": {
   "display_name": "Python 3",
   "language": "python",
   "name": "python3"
  },
  "language_info": {
   "codemirror_mode": {
    "name": "ipython",
    "version": 3
   },
   "file_extension": ".py",
   "mimetype": "text/x-python",
   "name": "python",
   "nbconvert_exporter": "python",
   "pygments_lexer": "ipython3",
   "version": "3.6.7"
  }
 },
 "nbformat": 4,
 "nbformat_minor": 1
}
