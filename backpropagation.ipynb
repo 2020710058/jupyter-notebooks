{
 "cells": [
  {
   "cell_type": "markdown",
   "metadata": {},
   "source": [
    "# Backpropagation!\n",
    "\n",
    "7 x 6 x 5 x 2 의 4계층 신경망 구조로 backpropagation과 numeric gradient, analytic gradient를 검증해본다."
   ]
  },
  {
   "cell_type": "code",
   "execution_count": 1,
   "metadata": {
    "collapsed": true
   },
   "outputs": [],
   "source": [
    "%matplotlib inline\n",
    "\n",
    "import matplotlib.pyplot as plt\n",
    "import seaborn as sns\n",
    "import numpy as np\n",
    "np.set_printoptions(suppress=True)\n",
    "import pandas as pd\n",
    "\n",
    "import sys\n",
    "sys.path.append('/Users/kaonpark/workspace/github.com/likejazz/kaon-learn')\n",
    "import kaonlearn\n",
    "from kaonlearn.plots import plot_decision_regions, plot_history"
   ]
  },
  {
   "cell_type": "code",
   "execution_count": 2,
   "metadata": {
    "collapsed": true
   },
   "outputs": [],
   "source": [
    "def _gradient_check(analytic, numeric):\n",
    "    numerator = abs(analytic - numeric)\n",
    "    denominator = max(analytic, numeric)\n",
    "    if denominator == 0:\n",
    "        print (\"Correct!\")\n",
    "    else:\n",
    "        difference = numerator / denominator\n",
    "\n",
    "        # cs231n의 권장 수치는 1e-7이나 그 기준을 맞출 수가 없다.\n",
    "        if difference < 1e-7:\n",
    "            print (\"Correct!\")\n",
    "        else:\n",
    "            print(\"\\x1b[31mWrong!\\x1b[0m\")\n",
    "\n",
    "def gradient_checking(nn, l = 3):\n",
    "    nn.__init__()\n",
    "    nn.train()\n",
    "    \n",
    "    if l == 1:\n",
    "        w = nn.w_1\n",
    "    elif l == 2:\n",
    "        w = nn.w_2\n",
    "    elif l == 3:\n",
    "        w = nn.w_3\n",
    "    \n",
    "    for k in range(w.shape[0]):\n",
    "        for j in range(w.shape[1]):\n",
    "            nn.__init__()\n",
    "            if l == 1:\n",
    "                nn.w_1[k][j] += nn.h\n",
    "            elif l == 2:\n",
    "                nn.w_2[k][j] += nn.h\n",
    "            elif l == 3:\n",
    "                nn.w_3[k][j] += nn.h\n",
    "            nn.query()\n",
    "            e1 = np.sum((nn.t - nn.out_o) ** 2) / 2\n",
    "\n",
    "            nn.__init__()\n",
    "            if l == 1:\n",
    "                nn.w_1[k][j] -= nn.h\n",
    "            elif l == 2:\n",
    "                nn.w_2[k][j] -= nn.h\n",
    "            elif l == 3:\n",
    "                nn.w_3[k][j] -= nn.h\n",
    "            nn.query()\n",
    "            e2 = np.sum((nn.t - nn.out_o) ** 2) / 2\n",
    "\n",
    "            if l == 1:\n",
    "                delta = nn.delta_w_1[k][j]\n",
    "            elif l == 2:\n",
    "                delta = nn.delta_w_2[k][j]\n",
    "            elif l == 3:\n",
    "                delta = nn.delta_w_3[k][j]\n",
    "\n",
    "            numeric_gradient = (e1 - e2) / (2 * nn.h)\n",
    "            # 수치 미분(numeric gradient) 결과가 해석적 미분(analytic gradient)과 동일한지 검증\n",
    "            print(\"%.16f, %.16f\" % (delta, numeric_gradient), end=\", \")\n",
    "            _gradient_check(delta, numeric_gradient)\n",
    "\n",
    "        nn.__init__()\n",
    "        if l == 1:\n",
    "            nn.b_1[k] += nn.h\n",
    "        elif l == 2:\n",
    "            nn.b_2[k] += nn.h\n",
    "        elif l == 3:\n",
    "            nn.b_3[k] += nn.h\n",
    "        nn.query()\n",
    "        e1 = np.sum((nn.t - nn.out_o) ** 2) / 2\n",
    "\n",
    "        nn.__init__()\n",
    "        if l == 1:\n",
    "            nn.b_1[k] -= nn.h\n",
    "        elif l == 2:\n",
    "            nn.b_2[k] -= nn.h\n",
    "        elif l == 3:\n",
    "            nn.b_3[k] -= nn.h\n",
    "        nn.query()\n",
    "        e2 = np.sum((nn.t - nn.out_o) ** 2) / 2\n",
    "\n",
    "        print()\n",
    "        if l == 1:\n",
    "            delta = nn.delta_b_1[k]\n",
    "        elif l == 2:\n",
    "            delta = nn.delta_b_2[k]\n",
    "        elif l == 3:\n",
    "            delta = nn.delta_b_3[k]\n",
    "\n",
    "        numeric_gradient = (e1 - e2) / (2 * nn.h)\n",
    "        print(\"%.16f, %.16f\" % (delta, numeric_gradient), end=\", \")\n",
    "        _gradient_check(delta, numeric_gradient)\n",
    "        print() "
   ]
  },
  {
   "cell_type": "code",
   "execution_count": 3,
   "metadata": {},
   "outputs": [],
   "source": [
    "def sigmoid(z: np.ndarray):\n",
    "    return 1 / (1 + np.exp(-z))\n",
    "\n",
    "def d_sigmoid(z: np.ndarray):\n",
    "    return sigmoid(z) * (1.0 - sigmoid(z))\n",
    "\n",
    "def relu(a: np.ndarray):\n",
    "    return np.maximum(a, 0)\n",
    "\n",
    "def d_relu(a: np.ndarray):\n",
    "    return 1 * (a > 0)\n",
    "\n",
    "# --\n",
    "\n",
    "def GD(self, delta, t, l):\n",
    "    return - self.lr * delta\n",
    "\n",
    "def adam(self, delta, t, l):\n",
    "    beta1 = .9\n",
    "    beta2 = .999\n",
    "    \n",
    "    eps = 1e-8\n",
    "\n",
    "    self.M[l] = beta1 * self.M[l] + (1. - beta1) * delta\n",
    "    self.R[l] = beta2 * self.R[l] + (1. - beta2) * delta**2\n",
    "\n",
    "    m_k_hat = self.M[l] / (1. - beta1**(t))\n",
    "    r_k_hat = self.R[l] / (1. - beta2**(t))\n",
    "\n",
    "    return - (self.lr * m_k_hat / (np.sqrt(r_k_hat) + eps))\n",
    "\n",
    "def momentum(self, delta, t, l):\n",
    "    gamma = .9\n",
    "    \n",
    "    self.M[l] = gamma * self.M[l] + self.lr * delta\n",
    "    return - self.M[l]"
   ]
  },
  {
   "cell_type": "code",
   "execution_count": 4,
   "metadata": {},
   "outputs": [],
   "source": [
    "class NeuralNetwork:\n",
    "    def __init__(self):\n",
    "        self.i = np.array([0.4,-0.2,0.1,0.1,-0.15,0.6,-0.9]).reshape(-1, 1)\n",
    "\n",
    "        np.random.seed(12)\n",
    "        self.w_1 = np.random.rand(6, 7)\n",
    "        self.b_1 = np.random.rand(6).reshape(-1, 1)\n",
    "        self.w_2 = np.random.rand(5, 6)\n",
    "        self.b_2 = np.random.rand(5).reshape(-1, 1)\n",
    "        self.w_3 = np.random.rand(2, 5)\n",
    "        self.b_3 = np.random.rand(2).reshape(-1, 1)\n",
    "\n",
    "        self.t = np.array([[0.87503811],[0.83690408]])\n",
    "        \n",
    "        self.lr = 0.1\n",
    "        self.h = 1e-4 \n",
    "        \n",
    "        # Optimizer Parameters\n",
    "        self.iter = 1\n",
    "        self.M = []\n",
    "        self.R = []\n",
    "        self.M.append(np.zeros(self.w_3.shape))\n",
    "        self.R.append(np.zeros(self.w_3.shape))\n",
    "        self.M.append(np.zeros(self.b_3.shape))\n",
    "        self.R.append(np.zeros(self.b_3.shape))\n",
    "        self.M.append(np.zeros(self.w_2.shape))\n",
    "        self.R.append(np.zeros(self.w_2.shape))\n",
    "        self.M.append(np.zeros(self.b_2.shape))\n",
    "        self.R.append(np.zeros(self.b_2.shape))\n",
    "        self.M.append(np.zeros(self.w_1.shape))\n",
    "        self.R.append(np.zeros(self.w_1.shape))\n",
    "        self.M.append(np.zeros(self.b_1.shape))\n",
    "        self.R.append(np.zeros(self.b_1.shape))\n",
    "        \n",
    "    def _forward(self):\n",
    "        self.net_h1 = np.dot(self.w_1, self.i) + self.b_1\n",
    "        self.out_h1 = relu(self.net_h1)\n",
    "\n",
    "        self.net_h2 = np.dot(self.w_2, self.out_h1) + self.b_2\n",
    "        self.out_h2 = sigmoid(self.net_h2)\n",
    "\n",
    "        self.net_o  = np.dot(self.w_3, self.out_h2) + self.b_3\n",
    "        self.out_o  = sigmoid(self.net_o)\n",
    "\n",
    "    def _backward(self, optimizer):\n",
    "        d_o_errors = - (self.t - self.out_o)\n",
    "        self.delta_w_3 = np.dot(d_o_errors * d_sigmoid(self.net_o), self.out_h2.T)\n",
    "        self.w_3 += optimizer(self, self.delta_w_3, self.iter, 0)\n",
    "        self.delta_b_3 = d_o_errors * d_sigmoid(self.net_o)\n",
    "        self.b_3 += optimizer(self, self.delta_b_3, self.iter, 1)\n",
    "\n",
    "        d_h2_errors = np.dot(self.w_3.T, d_o_errors * d_sigmoid(self.net_o))\n",
    "        self.delta_w_2 = np.dot(d_h2_errors * d_sigmoid(self.net_h2), self.out_h1.T)\n",
    "        self.w_2 += optimizer(self, self.delta_w_2, self.iter, 2)\n",
    "        self.delta_b_2 = d_h2_errors * d_sigmoid(self.net_h2)\n",
    "        self.b_2 += optimizer(self, self.delta_b_2, self.iter, 3)\n",
    "\n",
    "        d_h1_errors = np.dot(self.w_2.T, d_h2_errors * d_sigmoid(self.net_h2))\n",
    "        self.delta_w_1 = np.dot(d_h1_errors * d_relu(self.net_h1), self.i.T)\n",
    "        self.w_1 += optimizer(self, self.delta_w_1, self.iter, 4)\n",
    "        self.delta_b_1 = d_h1_errors * d_relu(self.net_h1)\n",
    "        self.b_1 += optimizer(self, self.delta_b_1, self.iter, 5)\n",
    "        \n",
    "        self.iter += 1\n",
    "        \n",
    "    def train(self, optimizer = GD):\n",
    "        self._forward()\n",
    "        self._backward(optimizer)\n",
    "\n",
    "    def query(self):\n",
    "        self._forward()\n",
    "        \n",
    "    def result(self):\n",
    "        print(self.t - self.out_o)\n",
    "        \n",
    "nn = NeuralNetwork()"
   ]
  },
  {
   "cell_type": "markdown",
   "metadata": {
    "collapsed": true
   },
   "source": [
    "출력 레이어에 activation(여기서는 sigmoid)이 없다면, 아래 처럼 최종 가중치 행렬의 delta 값과, 이전 가중치 행렬에 부여되는 에러값 계산이 다르다.\n",
    "\n",
    "```\n",
    "def _forward():\n",
    "    ...\n",
    "    # 최종 출력 레이어에 activation(sigmoid)이 없다면,\n",
    "    out_o = net_o\n",
    "\n",
    "def _backward():\n",
    "    ...\n",
    "    # 최종 출력 레이어에 activation(sigmoid)이 없다면,\n",
    "    delta_w_3 = np.dot(d_o_errors, out_h2.T)\n",
    "    delta_b_3 = d_o_errors\n",
    "    ...\n",
    "    # 이전 레이어의 에러에도 activation 미분이 생략된다.\n",
    "    d_h2_errors = np.dot(w_3.T, d_o_errors)\n",
    "```\n",
    "\n",
    "히든 레이어의 w1에 대한 delta_w1 수식은 아래와 같다.\n",
    "\n",
    "$$\\frac{\\partial E_{total}}{\\partial w_{1}} = (\\sum\\limits_{o}{\\frac{\\partial E_{total}}{\\partial out_{o}} * \\frac{\\partial out_{o}}{\\partial net_{o}} * \\frac{\\partial net_{o}}{\\partial out_{h1}}}) * \\frac{\\partial out_{h1}}{\\partial net_{h1}} * \\frac{\\partial net_{h1}}{\\partial w_{1}}$$\n",
    "\n",
    "$y_n$ 을 구하는 것이 역전파의 핵심이며 수식에서, $$\\frac{\\partial out_{o}}{\\partial net_{o}} * \\frac{\\partial net_{o}}{\\partial out_{h1}}$$ 부분이다. 즉, 출력 레이어의 activation 미분과 이전 가중치(w5, w6)를 곱한 값이 된다."
   ]
  },
  {
   "cell_type": "code",
   "execution_count": 5,
   "metadata": {},
   "outputs": [
    {
     "name": "stdout",
     "output_type": "stream",
     "text": [
      "0.0019912952415730, 0.0019912952408351, Correct!\n",
      "0.0024540703451672, 0.0024540703437870, Correct!\n",
      "0.0026930630921895, 0.0026930630903522, Correct!\n",
      "0.0027050489507301, 0.0027050489489859, Correct!\n",
      "0.0027245918937070, 0.0027245918919703, Correct!\n",
      "\n",
      "0.0033607543419824, 0.0033607543385456, Correct!\n",
      "\n",
      "0.0031708367295230, 0.0031708367287473, Correct!\n",
      "0.0039077361432061, 0.0039077361418081, Correct!\n",
      "0.0042882959740775, 0.0042882959721928, Correct!\n",
      "0.0043073816423912, 0.0043073816405163, Correct!\n",
      "0.0043385008255743, 0.0043385008237015, Correct!\n",
      "\n",
      "0.0053514933817869, 0.0053514933781237, Correct!\n",
      "\n"
     ]
    }
   ],
   "source": [
    "gradient_checking(nn, 3)"
   ]
  },
  {
   "cell_type": "code",
   "execution_count": 6,
   "metadata": {},
   "outputs": [
    {
     "name": "stdout",
     "output_type": "stream",
     "text": [
      "0.0000000000000000, 0.0000000000000000, Correct!\n",
      "0.0004138630287177, 0.0004141685682173, \u001b[31mWrong!\u001b[0m\n",
      "0.0000000000000000, 0.0000000000000000, Correct!\n",
      "0.0000000000000000, 0.0000000000000000, Correct!\n",
      "0.0003945576204420, 0.0003948489074763, \u001b[31mWrong!\u001b[0m\n",
      "0.0000004462967620, 0.0000004466261735, \u001b[31mWrong!\u001b[0m\n",
      "\n",
      "0.0007738071862624, 0.0007743784586484, \u001b[31mWrong!\u001b[0m\n",
      "\n",
      "0.0000000000000000, 0.0000000000000000, Correct!\n",
      "0.0004012666483439, 0.0004015738879013, \u001b[31mWrong!\u001b[0m\n",
      "0.0000000000000000, 0.0000000000000000, Correct!\n",
      "0.0000000000000000, 0.0000000000000000, Correct!\n",
      "0.0003825488215844, 0.0003828417294467, \u001b[31mWrong!\u001b[0m\n",
      "0.0000004327132250, 0.0000004330446678, \u001b[31mWrong!\u001b[0m\n",
      "\n",
      "0.0007502555061708, 0.0007508299572963, \u001b[31mWrong!\u001b[0m\n",
      "\n",
      "0.0000000000000000, 0.0000000000000000, Correct!\n",
      "0.0007004977316710, 0.0007007702000454, \u001b[31mWrong!\u001b[0m\n",
      "0.0000000000000000, 0.0000000000000000, Correct!\n",
      "0.0000000000000000, 0.0000000000000000, Correct!\n",
      "0.0006678217162559, 0.0006680814749506, \u001b[31mWrong!\u001b[0m\n",
      "0.0000007553945333, 0.0000007556884632, \u001b[31mWrong!\u001b[0m\n",
      "\n",
      "0.0013097332719160, 0.0013102427110119, \u001b[31mWrong!\u001b[0m\n",
      "\n",
      "0.0000000000000000, 0.0000000000000000, Correct!\n",
      "0.0003570468882901, 0.0003573168525731, \u001b[31mWrong!\u001b[0m\n",
      "0.0000000000000000, 0.0000000000000000, Correct!\n",
      "0.0000000000000000, 0.0000000000000000, Correct!\n",
      "0.0003403917742217, 0.0003406491453153, \u001b[31mWrong!\u001b[0m\n",
      "0.0000003850280384, 0.0000003853192244, \u001b[31mWrong!\u001b[0m\n",
      "\n",
      "0.0006675770214304, 0.0006680817784144, \u001b[31mWrong!\u001b[0m\n",
      "\n",
      "0.0000000000000000, 0.0000000000000000, Correct!\n",
      "0.0005044746159777, 0.0005047403321950, \u001b[31mWrong!\u001b[0m\n",
      "0.0000000000000000, 0.0000000000000000, Correct!\n",
      "0.0000000000000000, 0.0000000000000000, Correct!\n",
      "0.0004809424622206, 0.0004811957836099, \u001b[31mWrong!\u001b[0m\n",
      "0.0000005440094234, 0.0000005442958757, \u001b[31mWrong!\u001b[0m\n",
      "\n",
      "0.0009432253089627, 0.0009437221237026, \u001b[31mWrong!\u001b[0m\n",
      "\n"
     ]
    }
   ],
   "source": [
    "# 거의 비슷하여 정답으로 간주할 수 있으나 cs231n의 기준에는 미치지 못한다.\n",
    "gradient_checking(nn, 2)"
   ]
  },
  {
   "cell_type": "code",
   "execution_count": 7,
   "metadata": {},
   "outputs": [
    {
     "name": "stdout",
     "output_type": "stream",
     "text": [
      "0.0000000000000000, 0.0000000000000000, Correct!\n",
      "0.0000000000000000, 0.0000000000000000, Correct!\n",
      "0.0000000000000000, 0.0000000000000000, Correct!\n",
      "0.0000000000000000, 0.0000000000000000, Correct!\n",
      "0.0000000000000000, 0.0000000000000000, Correct!\n",
      "0.0000000000000000, 0.0000000000000000, Correct!\n",
      "0.0000000000000000, 0.0000000000000000, Correct!\n",
      "\n",
      "0.0000000000000000, 0.0000000000000000, Correct!\n",
      "\n",
      "0.0009564518308797, 0.0009570341935952, \u001b[31mWrong!\u001b[0m\n",
      "-0.0004782259154398, -0.0004785170967716, Correct!\n",
      "0.0002391129577199, 0.0002392585483554, \u001b[31mWrong!\u001b[0m\n",
      "0.0002391129577199, 0.0002392585483554, \u001b[31mWrong!\u001b[0m\n",
      "-0.0003586694365799, -0.0003588878226025, Correct!\n",
      "0.0014346777463195, 0.0014355512905836, \u001b[31mWrong!\u001b[0m\n",
      "-0.0021520166194793, -0.0021533269360316, Correct!\n",
      "\n",
      "0.0023911295771992, 0.0023925854846212, \u001b[31mWrong!\u001b[0m\n",
      "\n",
      "0.0000000000000000, 0.0000000000000000, Correct!\n",
      "0.0000000000000000, 0.0000000000000000, Correct!\n",
      "0.0000000000000000, 0.0000000000000000, Correct!\n",
      "0.0000000000000000, 0.0000000000000000, Correct!\n",
      "0.0000000000000000, 0.0000000000000000, Correct!\n",
      "0.0000000000000000, 0.0000000000000000, Correct!\n",
      "0.0000000000000000, 0.0000000000000000, Correct!\n",
      "\n",
      "0.0000000000000000, 0.0000000000000000, Correct!\n",
      "\n",
      "0.0000000000000000, 0.0000000000000000, Correct!\n",
      "0.0000000000000000, 0.0000000000000000, Correct!\n",
      "0.0000000000000000, 0.0000000000000000, Correct!\n",
      "0.0000000000000000, 0.0000000000000000, Correct!\n",
      "0.0000000000000000, 0.0000000000000000, Correct!\n",
      "0.0000000000000000, 0.0000000000000000, Correct!\n",
      "0.0000000000000000, 0.0000000000000000, Correct!\n",
      "\n",
      "0.0000000000000000, 0.0000000000000000, Correct!\n",
      "\n",
      "0.0008467909026301, 0.0008473850463073, \u001b[31mWrong!\u001b[0m\n",
      "-0.0004233954513151, -0.0004236925231146, Correct!\n",
      "0.0002116977256575, 0.0002118462615140, \u001b[31mWrong!\u001b[0m\n",
      "0.0002116977256575, 0.0002118462615140, \u001b[31mWrong!\u001b[0m\n",
      "-0.0003175465884863, -0.0003177693923967, Correct!\n",
      "0.0012701863539452, 0.0012710775693439, \u001b[31mWrong!\u001b[0m\n",
      "-0.0019052795309177, -0.0019066163540679, Correct!\n",
      "\n",
      "0.0021169772565753, 0.0021184626157293, \u001b[31mWrong!\u001b[0m\n",
      "\n",
      "0.0006243229367469, 0.0006246487897418, \u001b[31mWrong!\u001b[0m\n",
      "-0.0003121614683734, -0.0003123243948622, Correct!\n",
      "0.0001560807341867, 0.0001561621973314, \u001b[31mWrong!\u001b[0m\n",
      "0.0001560807341867, 0.0001561621973314, \u001b[31mWrong!\u001b[0m\n",
      "-0.0002341211012801, -0.0002342432961835, Correct!\n",
      "0.0009364844051203, 0.0009369731846474, \u001b[31mWrong!\u001b[0m\n",
      "-0.0014047266076804, -0.0014054597771707, Correct!\n",
      "\n",
      "0.0015608073418672, 0.0015616219747362, \u001b[31mWrong!\u001b[0m\n",
      "\n"
     ]
    }
   ],
   "source": [
    "gradient_checking(nn, 1)"
   ]
  },
  {
   "cell_type": "code",
   "execution_count": 8,
   "metadata": {},
   "outputs": [
    {
     "name": "stdout",
     "output_type": "stream",
     "text": [
      "[[-0.00009784]\n",
      " [ 0.00001233]]\n"
     ]
    }
   ],
   "source": [
    "# Gradient Descent 학습\n",
    "nn.__init__()\n",
    "\n",
    "delta_w_1_history = []\n",
    "w_1_history = []\n",
    "for _ in range(7):\n",
    "    delta_w_1_history.append([])\n",
    "    w_1_history.append([])\n",
    "delta_b_1_history = []\n",
    "b_1_history = []\n",
    "\n",
    "for _ in range(2000): \n",
    "    nn.train()\n",
    "    \n",
    "    for j in range(7):\n",
    "        delta_w_1_history[j].append(nn.delta_w_1[1][j]) \n",
    "        w_1_history[j].append(nn.w_1[1][j])\n",
    "    delta_b_1_history.append(nn.delta_b_1[1][0])\n",
    "    b_1_history.append(nn.b_1[1][0])\n",
    "\n",
    "nn.query()\n",
    "nn.result()"
   ]
  },
  {
   "cell_type": "code",
   "execution_count": 9,
   "metadata": {},
   "outputs": [
    {
     "data": {
      "image/png": "[encoded data removed]",
      "text/plain": [
       "<matplotlib.figure.Figure at 0x1145b8e80>"
      ]
     },
     "metadata": {},
     "output_type": "display_data"
    }
   ],
   "source": [
    "# plot with various axes scales\n",
    "plt.figure(1)\n",
    "\n",
    "for j in range(7):\n",
    "    plt.subplot(221)\n",
    "    plt.plot(delta_w_1_history[j])\n",
    "    plt.title(\"delta_w_1_history\")\n",
    "        \n",
    "    plt.subplot(222)\n",
    "    plt.plot(w_1_history[j])\n",
    "    plt.title(\"w_1_history\")\n",
    "    \n",
    "plt.subplot(223)\n",
    "plt.plot(delta_b_1_history)\n",
    "plt.title(\"delta_b_1_history\")\n",
    "\n",
    "plt.subplot(224)\n",
    "plt.plot(b_1_history)\n",
    "plt.title(\"b_1_history\")\n",
    "\n",
    "# Adjust the subplot layout, because the logit one may take more space\n",
    "# than usual, due to y-tick labels like \"1 - 10^{-3}\"\n",
    "# https://matplotlib.org/gallery/pyplots/pyplot_scales.html#sphx-glr-gallery-pyplots-pyplot-scales-py\n",
    "plt.subplots_adjust(top=0.92, bottom=0.08, left=0.10, right=0.95, hspace=0.5, wspace=0.35)\n",
    "plt.show()"
   ]
  },
  {
   "cell_type": "markdown",
   "metadata": {},
   "source": [
    "w_1의 기울기가 0에 이르는 지점이 bias 학습이 함께 진행될때는 1,200 epoch 정도이나,  \n",
    "bias 학습을 하지 않으면 1,500 epoch 이상을 넘어선다."
   ]
  },
  {
   "cell_type": "code",
   "execution_count": 10,
   "metadata": {},
   "outputs": [
    {
     "data": {
      "text/plain": [
       "array([[ 0.15416284,  0.7400497 ,  0.26331502,  0.53373939,  0.01457496,\n",
       "         0.91874701,  0.90071485],\n",
       "       [-0.02574465,  0.98653238,  0.1224178 ,  0.26903683,  0.62827046,\n",
       "         0.85547602,  0.98585922],\n",
       "       [ 0.00225923,  0.52122603,  0.55203763,  0.48537741,  0.76813415,\n",
       "         0.16071675,  0.76456045],\n",
       "       [ 0.0208098 ,  0.13521018,  0.11627302,  0.30989758,  0.67145265,\n",
       "         0.47122978,  0.8161683 ],\n",
       "       [ 0.2380425 ,  0.75889812,  0.68973628,  0.3146834 ,  0.35397664,\n",
       "         0.90074165,  0.74055676],\n",
       "       [ 0.95018859,  0.76753812,  0.82497802,  0.40660907,  0.45135526,\n",
       "         0.40044423,  0.99541926]])"
      ]
     },
     "execution_count": 10,
     "metadata": {},
     "output_type": "execute_result"
    }
   ],
   "source": [
    "nn.w_1"
   ]
  },
  {
   "cell_type": "code",
   "execution_count": 11,
   "metadata": {},
   "outputs": [
    {
     "name": "stdout",
     "output_type": "stream",
     "text": [
      "[[-0.]\n",
      " [ 0.]]\n"
     ]
    }
   ],
   "source": [
    "# Adam 학습\n",
    "nn.__init__()\n",
    "\n",
    "adam_w_1_history = []\n",
    "adam_b_1_history = []\n",
    "\n",
    "for _ in range(2000): \n",
    "    nn.train(adam)\n",
    "    \n",
    "    adam_w_1_history.append(nn.w_1[1][0])\n",
    "    adam_b_1_history.append(nn.b_1[1][0])\n",
    "\n",
    "nn.query()\n",
    "nn.result()"
   ]
  },
  {
   "cell_type": "code",
   "execution_count": 12,
   "metadata": {},
   "outputs": [
    {
     "data": {
      "text/plain": [
       "array([[ 0.15416284,  0.7400497 ,  0.26331502,  0.53373939,  0.01457496,\n",
       "         0.91874701,  0.90071485],\n",
       "       [-0.81311735,  1.80346289, -0.70925378, -0.56263475,  1.45257992,\n",
       "         0.09767795,  1.69928833],\n",
       "       [ 0.00225923,  0.52122603,  0.55203763,  0.48537741,  0.76813415,\n",
       "         0.16071675,  0.76456045],\n",
       "       [ 0.0208098 ,  0.13521018,  0.11627302,  0.30989758,  0.67145265,\n",
       "         0.47122978,  0.8161683 ],\n",
       "       [-0.54559241,  1.5682712 , -0.13245494, -0.50750782,  1.16977011,\n",
       "         0.14286756,  1.45978018],\n",
       "       [ 0.3498036 ,  1.36794471,  0.22462189, -0.19374706,  1.05175024,\n",
       "        -0.19989192,  1.59567079]])"
      ]
     },
     "execution_count": 12,
     "metadata": {},
     "output_type": "execute_result"
    }
   ],
   "source": [
    "nn.w_1"
   ]
  },
  {
   "cell_type": "code",
   "execution_count": 13,
   "metadata": {},
   "outputs": [
    {
     "name": "stdout",
     "output_type": "stream",
     "text": [
      "[[0.]\n",
      " [0.]]\n"
     ]
    }
   ],
   "source": [
    "# Momentum 학습\n",
    "nn.__init__()\n",
    "\n",
    "momentum_w_1_history = []\n",
    "momentum_b_1_history = []\n",
    "\n",
    "for _ in range(2000): \n",
    "    nn.train(momentum)\n",
    "    \n",
    "    momentum_w_1_history.append(nn.w_1[1][0])\n",
    "    momentum_b_1_history.append(nn.b_1[1][0])\n",
    "\n",
    "nn.query()\n",
    "nn.result()"
   ]
  },
  {
   "cell_type": "code",
   "execution_count": 14,
   "metadata": {},
   "outputs": [
    {
     "data": {
      "text/plain": [
       "array([[ 0.15416284,  0.7400497 ,  0.26331502,  0.53373939,  0.01457496,\n",
       "         0.91874701,  0.90071485],\n",
       "       [-0.02605567,  0.98668788,  0.12234005,  0.26895908,  0.6283871 ,\n",
       "         0.85500949,  0.98655901],\n",
       "       [ 0.00225923,  0.52122603,  0.55203763,  0.48537741,  0.76813415,\n",
       "         0.16071675,  0.76456045],\n",
       "       [ 0.0208098 ,  0.13521018,  0.11627302,  0.30989758,  0.67145265,\n",
       "         0.47122978,  0.8161683 ],\n",
       "       [ 0.23701052,  0.75941411,  0.68947829,  0.31442541,  0.35436363,\n",
       "         0.89919368,  0.74287871],\n",
       "       [ 0.94906447,  0.76810018,  0.82469699,  0.40632804,  0.45177681,\n",
       "         0.39875805,  0.99794853]])"
      ]
     },
     "execution_count": 14,
     "metadata": {},
     "output_type": "execute_result"
    }
   ],
   "source": [
    "nn.w_1"
   ]
  },
  {
   "cell_type": "code",
   "execution_count": 15,
   "metadata": {},
   "outputs": [
    {
     "data": {
      "image/png": "[encoded data removed]",
      "text/plain": [
       "<matplotlib.figure.Figure at 0x114d3c5f8>"
      ]
     },
     "metadata": {},
     "output_type": "display_data"
    }
   ],
   "source": [
    "plt.figure(1)\n",
    "\n",
    "plt.subplot(221)\n",
    "plt.plot(adam_w_1_history)\n",
    "plt.plot(w_1_history[0])\n",
    "plt.title(\"w_1_history\")\n",
    "        \n",
    "plt.subplot(222)\n",
    "plt.plot(adam_b_1_history)\n",
    "plt.plot(b_1_history)\n",
    "plt.title(\"b_1_history\")\n",
    "\n",
    "plt.subplots_adjust(top=0.92, bottom=0.08, left=0.10, right=0.95, hspace=0.5, wspace=0.35)\n",
    "plt.show()\n",
    "\n",
    "# Adam의 학습 시간은 GD의 1/20 수준에 불과했다. 도달하는 값은 많이 다르다."
   ]
  },
  {
   "cell_type": "code",
   "execution_count": 16,
   "metadata": {},
   "outputs": [
    {
     "data": {
      "image/png": "[encoded data removed]",
      "text/plain": [
       "<matplotlib.figure.Figure at 0x114f18320>"
      ]
     },
     "metadata": {},
     "output_type": "display_data"
    }
   ],
   "source": [
    "plt.figure(1)\n",
    "\n",
    "plt.subplot(221)\n",
    "plt.plot(momentum_w_1_history)\n",
    "plt.plot(w_1_history[0])\n",
    "plt.title(\"w_1_history\")\n",
    "        \n",
    "plt.subplot(222)\n",
    "plt.plot(momentum_b_1_history)\n",
    "plt.plot(b_1_history)\n",
    "plt.title(\"b_1_history\")\n",
    "\n",
    "plt.subplots_adjust(top=0.92, bottom=0.08, left=0.10, right=0.95, hspace=0.5, wspace=0.35)\n",
    "plt.show()\n",
    "\n",
    "# Momentum은 GD와 거의 비슷한 값에 도달하는데, 학습 시간은 1/12 수준에 불과했다."
   ]
  },
  {
   "cell_type": "code",
   "execution_count": 17,
   "metadata": {},
   "outputs": [
    {
     "data": {
      "image/png": "[encoded data removed]",
      "text/plain": [
       "<matplotlib.figure.Figure at 0x11506b860>"
      ]
     },
     "metadata": {},
     "output_type": "display_data"
    }
   ],
   "source": [
    "plt.figure(1)\n",
    "\n",
    "plt.subplot(221)\n",
    "plt.plot(momentum_w_1_history[:200])\n",
    "plt.plot(adam_w_1_history[:200])\n",
    "plt.title(\"w_1_history\")\n",
    "        \n",
    "plt.subplot(222)\n",
    "plt.plot(momentum_b_1_history[:200])\n",
    "plt.plot(adam_b_1_history[:200])\n",
    "plt.title(\"b_1_history\")\n",
    "\n",
    "plt.subplots_adjust(top=0.92, bottom=0.08, left=0.10, right=0.95, hspace=0.5, wspace=0.35)\n",
    "plt.show()\n",
    "\n",
    "# Adam과 Momentum의 비교, 하락폭이 큰 쪽이 Adam 이다."
   ]
  },
  {
   "cell_type": "markdown",
   "metadata": {},
   "source": [
    "# 미분 계산"
   ]
  },
  {
   "cell_type": "code",
   "execution_count": 18,
   "metadata": {},
   "outputs": [
    {
     "data": {
      "text/latex": [
       "$$b_{3} + w_{11} x_{1} + w_{12} x_{2} + w_{13} x_{3}$$"
      ],
      "text/plain": [
       "b₃ + w₁₁⋅x₁ + w₁₂⋅x₂ + w₁₃⋅x₃"
      ]
     },
     "execution_count": 18,
     "metadata": {},
     "output_type": "execute_result"
    }
   ],
   "source": [
    "import sympy\n",
    "sympy.init_printing(use_latex='mathjax')\n",
    "w11, x1, w12, x2, w13, x3, b3 = sympy.symbols('w11 x1 w12 x2 w13 x3 b3')\n",
    "z = w11 * x1 + w12 * x2 + w13 * x3 + b3\n",
    "z"
   ]
  },
  {
   "cell_type": "code",
   "execution_count": 19,
   "metadata": {},
   "outputs": [
    {
     "data": {
      "text/latex": [
       "$$1$$"
      ],
      "text/plain": [
       "1"
      ]
     },
     "execution_count": 19,
     "metadata": {},
     "output_type": "execute_result"
    }
   ],
   "source": [
    "sympy.Derivative(z, b3).doit()"
   ]
  }
 ],
 "metadata": {
  "kernelspec": {
   "display_name": "Python 3",
   "language": "python",
   "name": "python3"
  },
  "language_info": {
   "codemirror_mode": {
    "name": "ipython",
    "version": 3
   },
   "file_extension": ".py",
   "mimetype": "text/x-python",
   "name": "python",
   "nbconvert_exporter": "python",
   "pygments_lexer": "ipython3",
   "version": "3.6.3"
  }
 },
 "nbformat": 4,
 "nbformat_minor": 2
}
