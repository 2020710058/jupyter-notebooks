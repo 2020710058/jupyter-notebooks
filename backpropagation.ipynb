{
 "cells": [
  {
   "cell_type": "markdown",
   "metadata": {},
   "source": [
    "# Backpropagation\n",
    "\n",
    "7 x 6 x 5 x 2 의 4계층 신경망 구조를 작성하여 오차 역전파로 학습이 잘 진행되고, 편미분이 수치 미분의 결과와 동일한지 검증한다."
   ]
  },
  {
   "cell_type": "code",
   "execution_count": 1,
   "metadata": {
    "collapsed": true
   },
   "outputs": [],
   "source": [
    "%matplotlib inline\n",
    "\n",
    "import matplotlib.pyplot as plt\n",
    "import seaborn as sns\n",
    "import numpy as np\n",
    "np.set_printoptions(suppress=True)\n",
    "import pandas as pd\n",
    "\n",
    "import sys\n",
    "sys.path.append('/Users/kaonpark/workspace/github.com/likejazz/kaon-learn')\n",
    "import kaonlearn\n",
    "from kaonlearn.plots import plot_decision_regions, plot_history"
   ]
  },
  {
   "cell_type": "code",
   "execution_count": 2,
   "metadata": {
    "collapsed": true
   },
   "outputs": [],
   "source": [
    "def sigmoid(z: np.ndarray):\n",
    "    return 1 / (1 + np.exp(-z))\n",
    "\n",
    "def d_sigmoid(z: np.ndarray):\n",
    "    return sigmoid(z) * (1.0 - sigmoid(z))\n",
    "\n",
    "def _gradient_check(analytic, numeric):\n",
    "    numerator = abs(analytic - numeric)\n",
    "    denominator = max(analytic, numeric)\n",
    "    difference = numerator / denominator\n",
    "    \n",
    "    # cs231n의 권장 수치는 1e-7이나 그 기준을 맞출 수가 없다.\n",
    "    if difference < 1e-7:\n",
    "        print (\"Correct!\")\n",
    "    else:\n",
    "        print(\"\\x1b[31mWrong!\\x1b[0m\")\n",
    "\n",
    "def gradient_checking(nn, l = 3):\n",
    "    nn.__init__()\n",
    "    nn.train()\n",
    "    \n",
    "    if l == 1:\n",
    "        w = nn.w_1\n",
    "    elif l == 2:\n",
    "        w = nn.w_2\n",
    "    elif l == 3:\n",
    "        w = nn.w_3\n",
    "    \n",
    "    for k in range(w.shape[0]):\n",
    "        for j in range(w.shape[1]):\n",
    "            nn.__init__()\n",
    "            if l == 1:\n",
    "                nn.w_1[k][j] += nn.h\n",
    "            elif l == 2:\n",
    "                nn.w_2[k][j] += nn.h\n",
    "            elif l == 3:\n",
    "                nn.w_3[k][j] += nn.h\n",
    "            nn.query()\n",
    "            e1 = np.sum((nn.t - nn.out_o) ** 2) / 2\n",
    "\n",
    "            nn.__init__()\n",
    "            if l == 1:\n",
    "                nn.w_1[k][j] -= nn.h\n",
    "            elif l == 2:\n",
    "                nn.w_2[k][j] -= nn.h\n",
    "            elif l == 3:\n",
    "                nn.w_3[k][j] -= nn.h\n",
    "            nn.query()\n",
    "            e2 = np.sum((nn.t - nn.out_o) ** 2) / 2\n",
    "\n",
    "            if l == 1:\n",
    "                delta = nn.delta_w_1[k][j]\n",
    "            elif l == 2:\n",
    "                delta = nn.delta_w_2[k][j]\n",
    "            elif l == 3:\n",
    "                delta = nn.delta_w_3[k][j]\n",
    "\n",
    "            numeric_gradient = (e1 - e2) / (2 * nn.h)\n",
    "            # 수치 미분(numeric gradient) 결과가 해석적 미분(analytic gradient)과 동일한지 검증\n",
    "            print(\"%.16f, %.16f\" % (delta, numeric_gradient), end=\", \")\n",
    "            _gradient_check(delta, numeric_gradient)\n",
    "\n",
    "        nn.__init__()\n",
    "        if l == 1:\n",
    "            nn.b_1[k] += nn.h\n",
    "        elif l == 2:\n",
    "            nn.b_2[k] += nn.h\n",
    "        elif l == 3:\n",
    "            nn.b_3[k] += nn.h\n",
    "        nn.query()\n",
    "        e1 = np.sum((nn.t - nn.out_o) ** 2) / 2\n",
    "\n",
    "        nn.__init__()\n",
    "        if l == 1:\n",
    "            nn.b_1[k] -= nn.h\n",
    "        elif l == 2:\n",
    "            nn.b_2[k] -= nn.h\n",
    "        elif l == 3:\n",
    "            nn.b_3[k] -= nn.h\n",
    "        nn.query()\n",
    "        e2 = np.sum((nn.t - nn.out_o) ** 2) / 2\n",
    "\n",
    "        print()\n",
    "        if l == 1:\n",
    "            delta = nn.delta_b_1[k]\n",
    "        elif l == 2:\n",
    "            delta = nn.delta_b_2[k]\n",
    "        elif l == 3:\n",
    "            delta = nn.delta_b_3[k]\n",
    "\n",
    "        numeric_gradient = (e1 - e2) / (2 * nn.h)\n",
    "        print(\"%.16f, %.16f\" % (delta, numeric_gradient), end=\", \")\n",
    "        _gradient_check(delta, numeric_gradient)\n",
    "        print() "
   ]
  },
  {
   "cell_type": "code",
   "execution_count": 3,
   "metadata": {
    "collapsed": true
   },
   "outputs": [],
   "source": [
    "class NeuralNetwork:\n",
    "    def __init__(self):\n",
    "        self.i = np.array([0.4,-0.2,0.1,0.1,-0.15,0.6,-0.9]).reshape(-1, 1)\n",
    "\n",
    "        np.random.seed(12)\n",
    "        self.w_1 = np.random.rand(6, 7)\n",
    "        self.b_1 = np.random.rand(6).reshape(-1, 1)\n",
    "        self.w_2 = np.random.rand(5, 6)\n",
    "        self.b_2 = np.random.rand(5).reshape(-1, 1)\n",
    "        self.w_3 = np.random.rand(2, 5)\n",
    "        self.b_3 = np.random.rand(2).reshape(-1, 1)\n",
    "\n",
    "        self.t = np.array([[0.87503811],[0.83690408]])\n",
    "        \n",
    "        self.lr = 0.1\n",
    "        self.h = 1e-7 \n",
    "        \n",
    "        # DEBUG parameters for visualization\n",
    "        self.delta_w_1_history = []\n",
    "        self.w_1_history = []\n",
    "        for _ in range(7):\n",
    "            self.delta_w_1_history.append([])\n",
    "            self.w_1_history.append([])\n",
    "        self.delta_b_1_history = []\n",
    "        self.b_1_history = []\n",
    "\n",
    "    def _forward(self):\n",
    "        self.net_h1 = np.dot(self.w_1, self.i) + self.b_1\n",
    "        self.out_h1 = sigmoid(self.net_h1)\n",
    "\n",
    "        self.net_h2 = np.dot(self.w_2, self.out_h1) + self.b_2\n",
    "        self.out_h2 = sigmoid(self.net_h2)\n",
    "\n",
    "        self.net_o = np.dot(self.w_3, self.out_h2) + self.b_3\n",
    "        self.out_o = sigmoid(self.net_o)\n",
    "\n",
    "    def _backward(self):\n",
    "        d_o_errors = - (self.t - self.out_o)\n",
    "        self.delta_w_3 = np.dot(d_o_errors * d_sigmoid(self.net_o), self.out_h2.T)\n",
    "        self.w_3 += - self.lr * self.delta_w_3\n",
    "        self.delta_b_3 = d_o_errors * d_sigmoid(self.net_o)\n",
    "        self.b_3 += - self.lr * self.delta_b_3\n",
    "\n",
    "        d_h2_errors = np.dot(self.w_3.T, d_o_errors * d_sigmoid(self.net_o))\n",
    "        self.delta_w_2 = np.dot(d_h2_errors * d_sigmoid(self.net_h2), self.out_h1.T)\n",
    "        self.w_2 += - self.lr * self.delta_w_2\n",
    "        self.delta_b_2 = d_h2_errors * d_sigmoid(self.net_h2)\n",
    "        self.b_2 += - self.lr * self.delta_b_2\n",
    "\n",
    "        d_h1_errors = np.dot(self.w_2.T, d_h2_errors * d_sigmoid(self.net_h2))\n",
    "        self.delta_w_1 = np.dot(d_h1_errors * d_sigmoid(self.net_h1), self.i.T)\n",
    "        self.w_1 += - self.lr * self.delta_w_1\n",
    "        self.delta_b_1 = d_h1_errors * d_sigmoid(self.net_h1)\n",
    "        self.b_1 += - self.lr * self.delta_b_1\n",
    "\n",
    "    def _debug(self):\n",
    "        for j in range(7):\n",
    "            self.delta_w_1_history[j].append(self.delta_w_1[0][j]) \n",
    "            self.w_1_history[j].append(self.w_1[0][j])\n",
    "        self.delta_b_1_history.append(self.delta_b_1[0][0])\n",
    "        self.b_1_history.append(self.b_1[0][0])\n",
    "        \n",
    "    def train(self):\n",
    "        self._forward()\n",
    "        # backpropagation!\n",
    "        self._backward()\n",
    "        \n",
    "        # for visualization\n",
    "        self._debug()\n",
    "\n",
    "    def query(self):\n",
    "        self._forward()\n",
    "        \n",
    "    def result(self):\n",
    "        print(self.t - self.out_o)"
   ]
  },
  {
   "cell_type": "markdown",
   "metadata": {
    "collapsed": true
   },
   "source": [
    "출력 레이어에 activation(여기서는 sigmoid)이 없다면, 아래 처럼 최종 가중치 행렬의 delta 값과, 이전 가중치 행렬에 부여되는 에러값 계산이 다르다.\n",
    "\n",
    "```\n",
    "def _forward():\n",
    "    ...\n",
    "    # 최종 출력 레이어에 activation(sigmoid)이 없다면,\n",
    "    out_o = net_o\n",
    "\n",
    "def _backward():\n",
    "    ...\n",
    "    # 최종 출력 레이어에 activation(sigmoid)이 없다면,\n",
    "    delta_w_3 = np.dot(d_o_errors, out_h2.T)\n",
    "    delta_b_3 = d_o_errors\n",
    "    ...\n",
    "    # 이전 레이어의 에러에도 activation 미분이 생략된다.\n",
    "    d_h2_errors = np.dot(w_3.T, d_o_errors)\n",
    "```\n",
    "\n",
    "히든 레이어의 w1에 대한 delta_w1 수식은 아래와 같다.\n",
    "\n",
    "$$\\frac{\\partial E_{total}}{\\partial w_{1}} = (\\sum\\limits_{o}{\\frac{\\partial E_{total}}{\\partial out_{o}} * \\frac{\\partial out_{o}}{\\partial net_{o}} * \\frac{\\partial net_{o}}{\\partial out_{h1}}}) * \\frac{\\partial out_{h1}}{\\partial net_{h1}} * \\frac{\\partial net_{h1}}{\\partial w_{1}}$$\n",
    "\n",
    "$y_n$ 을 구하는 것이 역전파의 핵심이며 수식에서, $$\\frac{\\partial out_{o}}{\\partial net_{o}} * \\frac{\\partial net_{o}}{\\partial out_{h1}}$$ 부분이다. 즉, 출력 레이어의 activation 미분과 이전 가중치(w5, w6)를 곱한 값이 된다."
   ]
  },
  {
   "cell_type": "code",
   "execution_count": 4,
   "metadata": {
    "collapsed": true
   },
   "outputs": [],
   "source": [
    "nn = NeuralNetwork()"
   ]
  },
  {
   "cell_type": "code",
   "execution_count": 5,
   "metadata": {},
   "outputs": [
    {
     "name": "stdout",
     "output_type": "stream",
     "text": [
      "0.0020884340416671, 0.0020884341131455, Correct!\n",
      "0.0022944925136705, 0.0022944925213292, Correct!\n",
      "0.0025359120035654, 0.0025359120098961, Correct!\n",
      "0.0026220925711652, 0.0026220924823767, Correct!\n",
      "0.0026127957312623, 0.0026127957436506, Correct!\n",
      "\n",
      "0.0028046163835497, 0.0028046163915579, Correct!\n",
      "\n",
      "0.0032742240271800, 0.0032742239128303, Correct!\n",
      "0.0035972802437407, 0.0035972802341078, Correct!\n",
      "0.0039757750770333, 0.0039757750390501, Correct!\n",
      "0.0041108880274456, 0.0041108880362295, Correct!\n",
      "0.0040963125436239, 0.0040963125079452, Correct!\n",
      "\n",
      "0.0043970468623039, 0.0043970468238674, Correct!\n",
      "\n"
     ]
    }
   ],
   "source": [
    "gradient_checking(nn, 3)"
   ]
  },
  {
   "cell_type": "code",
   "execution_count": 6,
   "metadata": {},
   "outputs": [
    {
     "name": "stdout",
     "output_type": "stream",
     "text": [
      "0.0002407673085748, 0.0002409511479229, \u001b[31mWrong!\u001b[0m\n",
      "0.0003180687994474, 0.0003183118178762, \u001b[31mWrong!\u001b[0m\n",
      "0.0002162176883807, 0.0002163829618956, \u001b[31mWrong!\u001b[0m\n",
      "0.0002390158000612, 0.0002391982965866, \u001b[31mWrong!\u001b[0m\n",
      "0.0003151281324255, 0.0003153686600060, \u001b[31mWrong!\u001b[0m\n",
      "0.0002522635944823, 0.0002524561983075, \u001b[31mWrong!\u001b[0m\n",
      "\n",
      "0.0005043817367552, 0.0005047669747460, \u001b[31mWrong!\u001b[0m\n",
      "\n",
      "0.0002243399260449, 0.0002244978768856, \u001b[31mWrong!\u001b[0m\n",
      "0.0002963671910759, 0.0002965761143614, \u001b[31mWrong!\u001b[0m\n",
      "0.0002014653090075, 0.0002016074199945, \u001b[31mWrong!\u001b[0m\n",
      "0.0002227079217136, 0.0002228646694274, \u001b[31mWrong!\u001b[0m\n",
      "0.0002936271636772, 0.0002938340022685, \u001b[31mWrong!\u001b[0m\n",
      "0.0002350518285267, 0.0002352174271331, \u001b[31mWrong!\u001b[0m\n",
      "\n",
      "0.0004699681289451, 0.0004702992335848, \u001b[31mWrong!\u001b[0m\n",
      "\n",
      "0.0002811853240944, 0.0002812870856378, \u001b[31mWrong!\u001b[0m\n",
      "0.0003714635470502, 0.0003715979086938, \u001b[31mWrong!\u001b[0m\n",
      "0.0002525145176152, 0.0002526060090269, \u001b[31mWrong!\u001b[0m\n",
      "0.0002791397868826, 0.0002792408405200, \u001b[31mWrong!\u001b[0m\n",
      "0.0003680292252792, 0.0003681624102803, \u001b[31mWrong!\u001b[0m\n",
      "0.0002946115109713, 0.0002947180867408, \u001b[31mWrong!\u001b[0m\n",
      "\n",
      "0.0005890531524247, 0.0005892662226226, \u001b[31mWrong!\u001b[0m\n",
      "\n",
      "0.0001022273046282, 0.0001023011016177, \u001b[31mWrong!\u001b[0m\n",
      "0.0001350487167311, 0.0001351462518284, \u001b[31mWrong!\u001b[0m\n",
      "0.0000918037902526, 0.0000918701312941, \u001b[31mWrong!\u001b[0m\n",
      "0.0001014836322607, 0.0001015568271839, \u001b[31mWrong!\u001b[0m\n",
      "0.0001338001399819, 0.0001338968085712, \u001b[31mWrong!\u001b[0m\n",
      "0.0001071085085113, 0.0001071859094537, \u001b[31mWrong!\u001b[0m\n",
      "\n",
      "0.0002141552595216, 0.0002143100107099, \u001b[31mWrong!\u001b[0m\n",
      "\n",
      "0.0001540305304998, 0.0001541076381090, \u001b[31mWrong!\u001b[0m\n",
      "0.0002034840452565, 0.0002035858460980, \u001b[31mWrong!\u001b[0m\n",
      "0.0001383249471943, 0.0001383941485716, \u001b[31mWrong!\u001b[0m\n",
      "0.0001529100055119, 0.0001529866077571, \u001b[31mWrong!\u001b[0m\n",
      "0.0002016027578671, 0.0002017036104113, \u001b[31mWrong!\u001b[0m\n",
      "0.0001613852624507, 0.0001614659187604, \u001b[31mWrong!\u001b[0m\n",
      "\n",
      "0.0003226774720650, 0.0003228389690996, \u001b[31mWrong!\u001b[0m\n",
      "\n"
     ]
    }
   ],
   "source": [
    "# 거의 비슷하여 정답으로 간주할 수 있으나 cs231n의 기준에는 미치지 못한다.\n",
    "gradient_checking(nn, 2)"
   ]
  },
  {
   "cell_type": "code",
   "execution_count": 7,
   "metadata": {},
   "outputs": [
    {
     "name": "stdout",
     "output_type": "stream",
     "text": [
      "0.0000974372978874, 0.0000974974961876, \u001b[31mWrong!\u001b[0m\n",
      "-0.0000487186489437, -0.0000487487654410, Correct!\n",
      "0.0000243593244718, 0.0000243742439426, \u001b[31mWrong!\u001b[0m\n",
      "0.0000243593244718, 0.0000243742439426, \u001b[31mWrong!\u001b[0m\n",
      "-0.0000365389867078, -0.0000365616738274, Correct!\n",
      "0.0001461559468311, 0.0001462461922397, \u001b[31mWrong!\u001b[0m\n",
      "-0.0002192339202466, -0.0002193693057068, Correct!\n",
      "\n",
      "0.0002435932447185, 0.0002437437317954, \u001b[31mWrong!\u001b[0m\n",
      "\n",
      "0.0000913394440743, 0.0000913891792104, \u001b[31mWrong!\u001b[0m\n",
      "-0.0000456697220372, -0.0000456946720045, Correct!\n",
      "0.0000228348610186, 0.0000228473663599, \u001b[31mWrong!\u001b[0m\n",
      "0.0000228348610186, 0.0000228473663599, \u001b[31mWrong!\u001b[0m\n",
      "-0.0000342522915279, -0.0000342708066786, Correct!\n",
      "0.0001370091661115, 0.0001370838078468, \u001b[31mWrong!\u001b[0m\n",
      "-0.0002055137491673, -0.0002056257334543, Correct!\n",
      "\n",
      "0.0002283486101858, 0.0002284729523627, \u001b[31mWrong!\u001b[0m\n",
      "\n",
      "0.0000386111993653, 0.0000386394215235, \u001b[31mWrong!\u001b[0m\n",
      "-0.0000193055996826, -0.0000193198061715, Correct!\n",
      "0.0000096527998413, 0.0000096598336968, \u001b[31mWrong!\u001b[0m\n",
      "0.0000096527998413, 0.0000096598336968, \u001b[31mWrong!\u001b[0m\n",
      "-0.0000144791997620, -0.0000144898155974, Correct!\n",
      "0.0000579167990479, 0.0000579590282018, \u001b[31mWrong!\u001b[0m\n",
      "-0.0000868751985719, -0.0000869389196051, Correct!\n",
      "\n",
      "0.0000965279984132, 0.0000965988053436, \u001b[31mWrong!\u001b[0m\n",
      "\n",
      "0.0001209784503821, 0.0001210589180983, \u001b[31mWrong!\u001b[0m\n",
      "-0.0000604892251910, -0.0000605292899136, Correct!\n",
      "0.0000302446125955, 0.0000302647143458, \u001b[31mWrong!\u001b[0m\n",
      "0.0000302446125955, 0.0000302647143458, \u001b[31mWrong!\u001b[0m\n",
      "-0.0000453669188933, -0.0000453971756020, Correct!\n",
      "0.0001814676755731, 0.0001815882947481, \u001b[31mWrong!\u001b[0m\n",
      "-0.0002722015133596, -0.0002723824204381, Correct!\n",
      "\n",
      "0.0003024461259551, 0.0003026473082562, \u001b[31mWrong!\u001b[0m\n",
      "\n",
      "0.0000982174908258, 0.0000982817906919, \u001b[31mWrong!\u001b[0m\n",
      "-0.0000491087454129, -0.0000491408823355, Correct!\n",
      "0.0000245543727065, 0.0000245705279039, \u001b[31mWrong!\u001b[0m\n",
      "0.0000245543727065, 0.0000245705279039, \u001b[31mWrong!\u001b[0m\n",
      "-0.0000368315590597, -0.0000368554839425, Correct!\n",
      "0.0001473262362388, 0.0001474226123122, \u001b[31mWrong!\u001b[0m\n",
      "-0.0002209893543581, -0.0002211341353087, Correct!\n",
      "\n",
      "0.0002455437270646, 0.0002457044376986, \u001b[31mWrong!\u001b[0m\n",
      "\n",
      "0.0000614037023519, 0.0000614382329733, \u001b[31mWrong!\u001b[0m\n",
      "-0.0000307018511759, -0.0000307189863824, Correct!\n",
      "0.0000153509255880, 0.0000153595712538, \u001b[31mWrong!\u001b[0m\n",
      "0.0000153509255880, 0.0000153595712538, \u001b[31mWrong!\u001b[0m\n",
      "-0.0000230263883820, -0.0000230394262696, Correct!\n",
      "0.0000921055535278, 0.0000921573494600, \u001b[31mWrong!\u001b[0m\n",
      "-0.0001381583302918, -0.0001382358897489, Correct!\n",
      "\n",
      "0.0001535092558797, 0.0001535954956972, \u001b[31mWrong!\u001b[0m\n",
      "\n"
     ]
    }
   ],
   "source": [
    "gradient_checking(nn, 1)"
   ]
  },
  {
   "cell_type": "code",
   "execution_count": 8,
   "metadata": {},
   "outputs": [
    {
     "name": "stdout",
     "output_type": "stream",
     "text": [
      "[[-0.00000015]\n",
      " [ 0.        ]]\n"
     ]
    }
   ],
   "source": [
    "# 실제 학습이 잘 되는지 확인\n",
    "nn.__init__()\n",
    "for _ in range(3000): \n",
    "    nn.train()\n",
    "nn.query()\n",
    "nn.result()"
   ]
  },
  {
   "cell_type": "code",
   "execution_count": 9,
   "metadata": {},
   "outputs": [
    {
     "data": {
      "image/png": "[encoded data removed]",
      "text/plain": [
       "<matplotlib.figure.Figure at 0x1147f4390>"
      ]
     },
     "metadata": {},
     "output_type": "display_data"
    }
   ],
   "source": [
    "# plot with various axes scales\n",
    "plt.figure(1)\n",
    "\n",
    "for j in range(7):\n",
    "    plt.subplot(221)\n",
    "    plt.plot(nn.delta_w_1_history[j])\n",
    "    plt.title(\"delta_w_1_history\")\n",
    "        \n",
    "    plt.subplot(222)\n",
    "    plt.plot(nn.w_1_history[j])\n",
    "    plt.title(\"w_1_history\")\n",
    "    \n",
    "plt.subplot(223)\n",
    "plt.plot(nn.delta_b_1_history)\n",
    "plt.title(\"delta_b_1_history\")\n",
    "\n",
    "plt.subplot(224)\n",
    "plt.plot(nn.b_1_history)\n",
    "plt.title(\"b_1_history\")\n",
    "\n",
    "# Adjust the subplot layout, because the logit one may take more space\n",
    "# than usual, due to y-tick labels like \"1 - 10^{-3}\"\n",
    "# https://matplotlib.org/gallery/pyplots/pyplot_scales.html#sphx-glr-gallery-pyplots-pyplot-scales-py\n",
    "plt.subplots_adjust(top=0.92, bottom=0.08, left=0.10, right=0.95, hspace=0.5, wspace=0.35)\n",
    "plt.show()"
   ]
  },
  {
   "cell_type": "markdown",
   "metadata": {},
   "source": [
    "w_1의 기울기가 0에 이르는 지점이 bias 학습이 함께 진행될때는 1,200 epoch 정도이나,  \n",
    "bias 학습을 하지 않으면 1,500 epoch 이상을 넘어선다."
   ]
  },
  {
   "cell_type": "code",
   "execution_count": 10,
   "metadata": {},
   "outputs": [
    {
     "data": {
      "text/plain": [
       "array([[ 0.14722202,  0.74352011,  0.26157981,  0.53200419,  0.01717777,\n",
       "         0.90833578,  0.91633169],\n",
       "       [ 0.02672103,  0.96029954,  0.13553422,  0.28215325,  0.60859583,\n",
       "         0.93417454,  0.86781144],\n",
       "       [-0.00033641,  0.52252385,  0.55138872,  0.4847285 ,  0.76910752,\n",
       "         0.15682329,  0.77040064],\n",
       "       [ 0.01250873,  0.13936071,  0.11419775,  0.30782232,  0.67456555,\n",
       "         0.45877818,  0.8348457 ],\n",
       "       [ 0.28253518,  0.73665178,  0.70085945,  0.32580658,  0.33729188,\n",
       "         0.96748067,  0.64044822],\n",
       "       [ 0.94588999,  0.76968742,  0.82390337,  0.40553442,  0.45296724,\n",
       "         0.39399632,  1.00509112]])"
      ]
     },
     "execution_count": 10,
     "metadata": {},
     "output_type": "execute_result"
    }
   ],
   "source": [
    "nn.w_1"
   ]
  },
  {
   "cell_type": "markdown",
   "metadata": {},
   "source": [
    "# 미분 계산"
   ]
  },
  {
   "cell_type": "code",
   "execution_count": 11,
   "metadata": {},
   "outputs": [
    {
     "data": {
      "text/latex": [
       "$$b_{3} + w_{11} x_{1} + w_{12} x_{2} + w_{13} x_{3}$$"
      ],
      "text/plain": [
       "b₃ + w₁₁⋅x₁ + w₁₂⋅x₂ + w₁₃⋅x₃"
      ]
     },
     "execution_count": 11,
     "metadata": {},
     "output_type": "execute_result"
    }
   ],
   "source": [
    "import sympy\n",
    "sympy.init_printing(use_latex='mathjax')\n",
    "w11, x1, w12, x2, w13, x3, b3 = sympy.symbols('w11 x1 w12 x2 w13 x3 b3')\n",
    "z = w11 * x1 + w12 * x2 + w13 * x3 + b3\n",
    "z"
   ]
  },
  {
   "cell_type": "code",
   "execution_count": 12,
   "metadata": {},
   "outputs": [
    {
     "data": {
      "text/latex": [
       "$$1$$"
      ],
      "text/plain": [
       "1"
      ]
     },
     "execution_count": 12,
     "metadata": {},
     "output_type": "execute_result"
    }
   ],
   "source": [
    "sympy.Derivative(z, b3).doit()"
   ]
  }
 ],
 "metadata": {
  "kernelspec": {
   "display_name": "Python 3",
   "language": "python",
   "name": "python3"
  },
  "language_info": {
   "codemirror_mode": {
    "name": "ipython",
    "version": 3
   },
   "file_extension": ".py",
   "mimetype": "text/x-python",
   "name": "python",
   "nbconvert_exporter": "python",
   "pygments_lexer": "ipython3",
   "version": "3.6.3"
  }
 },
 "nbformat": 4,
 "nbformat_minor": 2
}
